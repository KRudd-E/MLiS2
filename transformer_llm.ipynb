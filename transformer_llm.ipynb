{
  "cells": [
    {
      "cell_type": "markdown",
      "metadata": {
        "id": "view-in-github",
        "colab_type": "text"
      },
      "source": [
        "<a href=\"https://colab.research.google.com/github/adammoss/MLiS2/blob/master/transformer_llm.ipynb\" target=\"_parent\"><img src=\"https://colab.research.google.com/assets/colab-badge.svg\" alt=\"Open In Colab\"/></a>"
      ]
    },
    {
      "cell_type": "markdown",
      "metadata": {
        "id": "yeUfbxv9ghmQ"
      },
      "source": [
        "As an example application of a transformer, let's build a GPT like language model that predicts the probability of a sentence of $\\tau$ tokens,\n",
        "\n",
        "$\n",
        "P \\left( \\boldsymbol{x}^{(1)}, \\boldsymbol{x}^{(2)}, \\ldots, \\boldsymbol{x}^{(\\tau)}    \\right) = \\prod_{t  = 1}^{\\tau} P \\left( \\boldsymbol{x}^{(i)} |  \\boldsymbol{x}^{(1)}, \\ldots, \\boldsymbol{x}^{(i-1)}    \\right)\n",
        "$\n",
        "\n",
        "where $\\boldsymbol{x}^{(t)}$ is a vector representing a token.\n",
        "\n",
        "It starts with simpler models like Bigram Models and progresses to more complex architectures such as Self Attention and Multi-head Attention mechanisms, culminating in the construction of a GPT model. It utilizes TensorFlow datasets, such as 'tiny_shakespeare', to train the models and showcases custom training loops, attention mechanisms, and the application of multi-head attention in neural network models.\n",
        "\n",
        "Key highlights include:\n",
        "- Implementation of Bigram Models for understanding basic NLP concepts.\n",
        "- Exploration of Constant Attention Scores to illustrate the concept of attention.\n",
        "- Detailed implementation of Self Attention and Multi-head Attention mechanisms, foundational to Transformer models.\n",
        "- Building a GPT-like model from scratch, demonstrating the power of Transformers in generating human-like text.\n",
        "- Custom training loops and model evaluation using TensorFlow's efficient data handling.\n",
        "\n",
        "\n"
      ]
    },
    {
      "cell_type": "code",
      "source": [
        "!pip install tiktoken\n",
        "!pip install keras_nlp"
      ],
      "metadata": {
        "colab": {
          "base_uri": "https://localhost:8080/"
        },
        "id": "48zoWwDaisC6",
        "outputId": "33f30a0c-00e7-453b-8620-fbfae5cdd696"
      },
      "execution_count": 1,
      "outputs": [
        {
          "output_type": "stream",
          "name": "stdout",
          "text": [
            "Collecting tiktoken\n",
            "  Downloading tiktoken-0.6.0-cp310-cp310-manylinux_2_17_x86_64.manylinux2014_x86_64.whl (1.8 MB)\n",
            "\u001b[?25l     \u001b[90m━━━━━━━━━━━━━━━━━━━━━━━━━━━━━━━━━━━━━━━━\u001b[0m \u001b[32m0.0/1.8 MB\u001b[0m \u001b[31m?\u001b[0m eta \u001b[36m-:--:--\u001b[0m\r\u001b[2K     \u001b[91m━━━━\u001b[0m\u001b[91m╸\u001b[0m\u001b[90m━━━━━━━━━━━━━━━━━━━━━━━━━━━━━━━━━━━\u001b[0m \u001b[32m0.2/1.8 MB\u001b[0m \u001b[31m6.5 MB/s\u001b[0m eta \u001b[36m0:00:01\u001b[0m\r\u001b[2K     \u001b[90m━━━━━━━━━━━━━━━━━━━━━━━━━━━━━━━━━━━━━━━━\u001b[0m \u001b[32m1.8/1.8 MB\u001b[0m \u001b[31m28.6 MB/s\u001b[0m eta \u001b[36m0:00:00\u001b[0m\n",
            "\u001b[?25hRequirement already satisfied: regex>=2022.1.18 in /usr/local/lib/python3.10/dist-packages (from tiktoken) (2023.12.25)\n",
            "Requirement already satisfied: requests>=2.26.0 in /usr/local/lib/python3.10/dist-packages (from tiktoken) (2.31.0)\n",
            "Requirement already satisfied: charset-normalizer<4,>=2 in /usr/local/lib/python3.10/dist-packages (from requests>=2.26.0->tiktoken) (3.3.2)\n",
            "Requirement already satisfied: idna<4,>=2.5 in /usr/local/lib/python3.10/dist-packages (from requests>=2.26.0->tiktoken) (3.6)\n",
            "Requirement already satisfied: urllib3<3,>=1.21.1 in /usr/local/lib/python3.10/dist-packages (from requests>=2.26.0->tiktoken) (2.0.7)\n",
            "Requirement already satisfied: certifi>=2017.4.17 in /usr/local/lib/python3.10/dist-packages (from requests>=2.26.0->tiktoken) (2024.2.2)\n",
            "Installing collected packages: tiktoken\n",
            "Successfully installed tiktoken-0.6.0\n",
            "Collecting keras_nlp\n",
            "  Downloading keras_nlp-0.8.1-py3-none-any.whl (465 kB)\n",
            "\u001b[2K     \u001b[90m━━━━━━━━━━━━━━━━━━━━━━━━━━━━━━━━━━━━━━━━\u001b[0m \u001b[32m465.2/465.2 kB\u001b[0m \u001b[31m9.3 MB/s\u001b[0m eta \u001b[36m0:00:00\u001b[0m\n",
            "\u001b[?25hCollecting keras-core (from keras_nlp)\n",
            "  Downloading keras_core-0.1.7-py3-none-any.whl (950 kB)\n",
            "\u001b[2K     \u001b[90m━━━━━━━━━━━━━━━━━━━━━━━━━━━━━━━━━━━━━━━━\u001b[0m \u001b[32m950.8/950.8 kB\u001b[0m \u001b[31m56.4 MB/s\u001b[0m eta \u001b[36m0:00:00\u001b[0m\n",
            "\u001b[?25hRequirement already satisfied: absl-py in /usr/local/lib/python3.10/dist-packages (from keras_nlp) (1.4.0)\n",
            "Requirement already satisfied: numpy in /usr/local/lib/python3.10/dist-packages (from keras_nlp) (1.25.2)\n",
            "Requirement already satisfied: packaging in /usr/local/lib/python3.10/dist-packages (from keras_nlp) (23.2)\n",
            "Requirement already satisfied: regex in /usr/local/lib/python3.10/dist-packages (from keras_nlp) (2023.12.25)\n",
            "Requirement already satisfied: rich in /usr/local/lib/python3.10/dist-packages (from keras_nlp) (13.7.0)\n",
            "Requirement already satisfied: dm-tree in /usr/local/lib/python3.10/dist-packages (from keras_nlp) (0.1.8)\n",
            "Requirement already satisfied: kagglehub in /usr/local/lib/python3.10/dist-packages (from keras_nlp) (0.1.9)\n",
            "Collecting tensorflow-text (from keras_nlp)\n",
            "  Downloading tensorflow_text-2.15.0-cp310-cp310-manylinux_2_17_x86_64.manylinux2014_x86_64.whl (5.2 MB)\n",
            "\u001b[2K     \u001b[90m━━━━━━━━━━━━━━━━━━━━━━━━━━━━━━━━━━━━━━━━\u001b[0m \u001b[32m5.2/5.2 MB\u001b[0m \u001b[31m82.1 MB/s\u001b[0m eta \u001b[36m0:00:00\u001b[0m\n",
            "\u001b[?25hRequirement already satisfied: requests in /usr/local/lib/python3.10/dist-packages (from kagglehub->keras_nlp) (2.31.0)\n",
            "Requirement already satisfied: tqdm in /usr/local/lib/python3.10/dist-packages (from kagglehub->keras_nlp) (4.66.2)\n",
            "Collecting namex (from keras-core->keras_nlp)\n",
            "  Downloading namex-0.0.7-py3-none-any.whl (5.8 kB)\n",
            "Requirement already satisfied: h5py in /usr/local/lib/python3.10/dist-packages (from keras-core->keras_nlp) (3.9.0)\n",
            "Requirement already satisfied: markdown-it-py>=2.2.0 in /usr/local/lib/python3.10/dist-packages (from rich->keras_nlp) (3.0.0)\n",
            "Requirement already satisfied: pygments<3.0.0,>=2.13.0 in /usr/local/lib/python3.10/dist-packages (from rich->keras_nlp) (2.16.1)\n",
            "Requirement already satisfied: tensorflow-hub>=0.13.0 in /usr/local/lib/python3.10/dist-packages (from tensorflow-text->keras_nlp) (0.16.1)\n",
            "Requirement already satisfied: tensorflow<2.16,>=2.15.0 in /usr/local/lib/python3.10/dist-packages (from tensorflow-text->keras_nlp) (2.15.0)\n",
            "Requirement already satisfied: mdurl~=0.1 in /usr/local/lib/python3.10/dist-packages (from markdown-it-py>=2.2.0->rich->keras_nlp) (0.1.2)\n",
            "Requirement already satisfied: astunparse>=1.6.0 in /usr/local/lib/python3.10/dist-packages (from tensorflow<2.16,>=2.15.0->tensorflow-text->keras_nlp) (1.6.3)\n",
            "Requirement already satisfied: flatbuffers>=23.5.26 in /usr/local/lib/python3.10/dist-packages (from tensorflow<2.16,>=2.15.0->tensorflow-text->keras_nlp) (23.5.26)\n",
            "Requirement already satisfied: gast!=0.5.0,!=0.5.1,!=0.5.2,>=0.2.1 in /usr/local/lib/python3.10/dist-packages (from tensorflow<2.16,>=2.15.0->tensorflow-text->keras_nlp) (0.5.4)\n",
            "Requirement already satisfied: google-pasta>=0.1.1 in /usr/local/lib/python3.10/dist-packages (from tensorflow<2.16,>=2.15.0->tensorflow-text->keras_nlp) (0.2.0)\n",
            "Requirement already satisfied: libclang>=13.0.0 in /usr/local/lib/python3.10/dist-packages (from tensorflow<2.16,>=2.15.0->tensorflow-text->keras_nlp) (16.0.6)\n",
            "Requirement already satisfied: ml-dtypes~=0.2.0 in /usr/local/lib/python3.10/dist-packages (from tensorflow<2.16,>=2.15.0->tensorflow-text->keras_nlp) (0.2.0)\n",
            "Requirement already satisfied: opt-einsum>=2.3.2 in /usr/local/lib/python3.10/dist-packages (from tensorflow<2.16,>=2.15.0->tensorflow-text->keras_nlp) (3.3.0)\n",
            "Requirement already satisfied: protobuf!=4.21.0,!=4.21.1,!=4.21.2,!=4.21.3,!=4.21.4,!=4.21.5,<5.0.0dev,>=3.20.3 in /usr/local/lib/python3.10/dist-packages (from tensorflow<2.16,>=2.15.0->tensorflow-text->keras_nlp) (3.20.3)\n",
            "Requirement already satisfied: setuptools in /usr/local/lib/python3.10/dist-packages (from tensorflow<2.16,>=2.15.0->tensorflow-text->keras_nlp) (67.7.2)\n",
            "Requirement already satisfied: six>=1.12.0 in /usr/local/lib/python3.10/dist-packages (from tensorflow<2.16,>=2.15.0->tensorflow-text->keras_nlp) (1.16.0)\n",
            "Requirement already satisfied: termcolor>=1.1.0 in /usr/local/lib/python3.10/dist-packages (from tensorflow<2.16,>=2.15.0->tensorflow-text->keras_nlp) (2.4.0)\n",
            "Requirement already satisfied: typing-extensions>=3.6.6 in /usr/local/lib/python3.10/dist-packages (from tensorflow<2.16,>=2.15.0->tensorflow-text->keras_nlp) (4.9.0)\n",
            "Requirement already satisfied: wrapt<1.15,>=1.11.0 in /usr/local/lib/python3.10/dist-packages (from tensorflow<2.16,>=2.15.0->tensorflow-text->keras_nlp) (1.14.1)\n",
            "Requirement already satisfied: tensorflow-io-gcs-filesystem>=0.23.1 in /usr/local/lib/python3.10/dist-packages (from tensorflow<2.16,>=2.15.0->tensorflow-text->keras_nlp) (0.36.0)\n",
            "Requirement already satisfied: grpcio<2.0,>=1.24.3 in /usr/local/lib/python3.10/dist-packages (from tensorflow<2.16,>=2.15.0->tensorflow-text->keras_nlp) (1.60.1)\n",
            "Requirement already satisfied: tensorboard<2.16,>=2.15 in /usr/local/lib/python3.10/dist-packages (from tensorflow<2.16,>=2.15.0->tensorflow-text->keras_nlp) (2.15.2)\n",
            "Requirement already satisfied: tensorflow-estimator<2.16,>=2.15.0 in /usr/local/lib/python3.10/dist-packages (from tensorflow<2.16,>=2.15.0->tensorflow-text->keras_nlp) (2.15.0)\n",
            "Requirement already satisfied: keras<2.16,>=2.15.0 in /usr/local/lib/python3.10/dist-packages (from tensorflow<2.16,>=2.15.0->tensorflow-text->keras_nlp) (2.15.0)\n",
            "Requirement already satisfied: tf-keras>=2.14.1 in /usr/local/lib/python3.10/dist-packages (from tensorflow-hub>=0.13.0->tensorflow-text->keras_nlp) (2.15.0)\n",
            "Requirement already satisfied: charset-normalizer<4,>=2 in /usr/local/lib/python3.10/dist-packages (from requests->kagglehub->keras_nlp) (3.3.2)\n",
            "Requirement already satisfied: idna<4,>=2.5 in /usr/local/lib/python3.10/dist-packages (from requests->kagglehub->keras_nlp) (3.6)\n",
            "Requirement already satisfied: urllib3<3,>=1.21.1 in /usr/local/lib/python3.10/dist-packages (from requests->kagglehub->keras_nlp) (2.0.7)\n",
            "Requirement already satisfied: certifi>=2017.4.17 in /usr/local/lib/python3.10/dist-packages (from requests->kagglehub->keras_nlp) (2024.2.2)\n",
            "Requirement already satisfied: wheel<1.0,>=0.23.0 in /usr/local/lib/python3.10/dist-packages (from astunparse>=1.6.0->tensorflow<2.16,>=2.15.0->tensorflow-text->keras_nlp) (0.42.0)\n",
            "Requirement already satisfied: google-auth<3,>=1.6.3 in /usr/local/lib/python3.10/dist-packages (from tensorboard<2.16,>=2.15->tensorflow<2.16,>=2.15.0->tensorflow-text->keras_nlp) (2.27.0)\n",
            "Requirement already satisfied: google-auth-oauthlib<2,>=0.5 in /usr/local/lib/python3.10/dist-packages (from tensorboard<2.16,>=2.15->tensorflow<2.16,>=2.15.0->tensorflow-text->keras_nlp) (1.2.0)\n",
            "Requirement already satisfied: markdown>=2.6.8 in /usr/local/lib/python3.10/dist-packages (from tensorboard<2.16,>=2.15->tensorflow<2.16,>=2.15.0->tensorflow-text->keras_nlp) (3.5.2)\n",
            "Requirement already satisfied: tensorboard-data-server<0.8.0,>=0.7.0 in /usr/local/lib/python3.10/dist-packages (from tensorboard<2.16,>=2.15->tensorflow<2.16,>=2.15.0->tensorflow-text->keras_nlp) (0.7.2)\n",
            "Requirement already satisfied: werkzeug>=1.0.1 in /usr/local/lib/python3.10/dist-packages (from tensorboard<2.16,>=2.15->tensorflow<2.16,>=2.15.0->tensorflow-text->keras_nlp) (3.0.1)\n",
            "Requirement already satisfied: cachetools<6.0,>=2.0.0 in /usr/local/lib/python3.10/dist-packages (from google-auth<3,>=1.6.3->tensorboard<2.16,>=2.15->tensorflow<2.16,>=2.15.0->tensorflow-text->keras_nlp) (5.3.2)\n",
            "Requirement already satisfied: pyasn1-modules>=0.2.1 in /usr/local/lib/python3.10/dist-packages (from google-auth<3,>=1.6.3->tensorboard<2.16,>=2.15->tensorflow<2.16,>=2.15.0->tensorflow-text->keras_nlp) (0.3.0)\n",
            "Requirement already satisfied: rsa<5,>=3.1.4 in /usr/local/lib/python3.10/dist-packages (from google-auth<3,>=1.6.3->tensorboard<2.16,>=2.15->tensorflow<2.16,>=2.15.0->tensorflow-text->keras_nlp) (4.9)\n",
            "Requirement already satisfied: requests-oauthlib>=0.7.0 in /usr/local/lib/python3.10/dist-packages (from google-auth-oauthlib<2,>=0.5->tensorboard<2.16,>=2.15->tensorflow<2.16,>=2.15.0->tensorflow-text->keras_nlp) (1.3.1)\n",
            "Requirement already satisfied: MarkupSafe>=2.1.1 in /usr/local/lib/python3.10/dist-packages (from werkzeug>=1.0.1->tensorboard<2.16,>=2.15->tensorflow<2.16,>=2.15.0->tensorflow-text->keras_nlp) (2.1.5)\n",
            "Requirement already satisfied: pyasn1<0.6.0,>=0.4.6 in /usr/local/lib/python3.10/dist-packages (from pyasn1-modules>=0.2.1->google-auth<3,>=1.6.3->tensorboard<2.16,>=2.15->tensorflow<2.16,>=2.15.0->tensorflow-text->keras_nlp) (0.5.1)\n",
            "Requirement already satisfied: oauthlib>=3.0.0 in /usr/local/lib/python3.10/dist-packages (from requests-oauthlib>=0.7.0->google-auth-oauthlib<2,>=0.5->tensorboard<2.16,>=2.15->tensorflow<2.16,>=2.15.0->tensorflow-text->keras_nlp) (3.2.2)\n",
            "Installing collected packages: namex, keras-core, tensorflow-text, keras_nlp\n",
            "Successfully installed keras-core-0.1.7 keras_nlp-0.8.1 namex-0.0.7 tensorflow-text-2.15.0\n"
          ]
        }
      ]
    },
    {
      "cell_type": "code",
      "execution_count": 2,
      "metadata": {
        "id": "Alq1W_bCWoTM"
      },
      "outputs": [],
      "source": [
        "import itertools\n",
        "import operator\n",
        "import numpy as np\n",
        "import sys\n",
        "from datetime import datetime\n",
        "import os\n",
        "import requests\n",
        "from tqdm.notebook import trange, tqdm\n",
        "import matplotlib.pyplot as plt\n",
        "import time"
      ]
    },
    {
      "cell_type": "code",
      "execution_count": 3,
      "metadata": {
        "colab": {
          "base_uri": "https://localhost:8080/"
        },
        "id": "60FGqR6mHMjz",
        "outputId": "d9e26605-f6eb-46c2-c8e8-870ea363acb2"
      },
      "outputs": [
        {
          "output_type": "stream",
          "name": "stdout",
          "text": [
            "TensorFlow version: 2.15.0\n",
            "Using TensorFlow backend\n"
          ]
        }
      ],
      "source": [
        "import tensorflow as tf\n",
        "print(\"TensorFlow version:\", tf.__version__)\n",
        "\n",
        "from tensorflow.keras.layers import Dense, Flatten, Conv2D\n",
        "from tensorflow.keras import Model\n",
        "from tensorflow_probability import distributions as tfd\n",
        "import tensorflow_datasets as tfds\n",
        "\n",
        "import tiktoken\n",
        "\n",
        "import keras_nlp"
      ]
    },
    {
      "cell_type": "code",
      "source": [
        "batch_size = 64\n",
        "context_size = 256\n",
        "tokenization = 'gpt2'\n",
        "docs = ['_chat.txt']\n",
        "docs = ['tiny_shakespeare']\n",
        "#docs = ['scientific_papers/arxiv']"
      ],
      "metadata": {
        "id": "wNrbkRtsQOfJ"
      },
      "execution_count": 12,
      "outputs": []
    },
    {
      "cell_type": "code",
      "execution_count": 13,
      "metadata": {
        "id": "NfpGBFRj-DzH"
      },
      "outputs": [],
      "source": [
        "train_text = ''\n",
        "test_text = ''\n",
        "for doc in docs:\n",
        "  if doc == 'tiny_shakespeare':\n",
        "    d = tfds.load(name=doc)['train']\n",
        "    train_text += next(iter(d))['text'].numpy().decode(\"utf-8\")\n",
        "    d = tfds.load(name=doc)['test']\n",
        "    test_text += next(iter(d))['text'].numpy().decode(\"utf-8\")\n",
        "  elif doc == 'scientific_papers/arxiv':\n",
        "    d = tfds.load(name=doc)\n",
        "  else:\n",
        "    if not os.path.isfile(doc):\n",
        "      from google.colab import files\n",
        "      uploaded = files.upload()\n",
        "    sentences = []\n",
        "    with open(doc, 'r') as f:\n",
        "      for x in f.readlines():\n",
        "        if 'omitted' not in x:\n",
        "          if len(x.split(']')) > 1:\n",
        "            sentences.append(x.split(']')[1])\n",
        "          else:\n",
        "            sentences.append(x)\n",
        "    text = ''.join(sentences)\n",
        "    train_text += text[:int(0.8*len(text))]\n",
        "    test_text += text[int(0.8*len(text)):]"
      ]
    },
    {
      "cell_type": "code",
      "source": [
        "print(train_text[:200])"
      ],
      "metadata": {
        "colab": {
          "base_uri": "https://localhost:8080/"
        },
        "id": "dxTX6JzJBSoM",
        "outputId": "b4c5c840-efd1-41c1-e22f-fb6a39dcc3d4"
      },
      "execution_count": 14,
      "outputs": [
        {
          "output_type": "stream",
          "name": "stdout",
          "text": [
            "First Citizen:\n",
            "Before we proceed any further, hear me speak.\n",
            "\n",
            "All:\n",
            "Speak, speak.\n",
            "\n",
            "First Citizen:\n",
            "You are all resolved rather to die than to famish?\n",
            "\n",
            "All:\n",
            "Resolved. resolved.\n",
            "\n",
            "First Citizen:\n",
            "First, you\n"
          ]
        }
      ]
    },
    {
      "cell_type": "code",
      "source": [
        "if tokenization == 'char':\n",
        "\n",
        "  print(f'Length of train text: {len(train_text)} tokens')\n",
        "  print(f'Length of test text: {len(test_text)} tokens')\n",
        "\n",
        "  # The unique characters in the file\n",
        "  vocab = sorted(set(train_text + ' ' + test_text))\n",
        "\n",
        "  ids_from_chars = tf.keras.layers.StringLookup(\n",
        "    vocabulary=list(vocab), mask_token=None)\n",
        "\n",
        "  chars_from_ids = tf.keras.layers.StringLookup(\n",
        "    vocabulary=ids_from_chars.get_vocabulary(), invert=True, mask_token=None)\n",
        "\n",
        "  def text_from_ids(ids):\n",
        "    return tf.strings.reduce_join(chars_from_ids(ids), axis=-1).numpy().decode('utf-8')\n",
        "\n",
        "  ids_train_ds = tf.data.Dataset.from_tensor_slices(ids_from_chars(tf.strings.unicode_split(train_text, 'UTF-8')))\n",
        "  ids_test_ds = tf.data.Dataset.from_tensor_slices(ids_from_chars(tf.strings.unicode_split(test_text, 'UTF-8')))\n",
        "\n",
        "  # Length of the vocabulary in StringLookup Layer\n",
        "  vocab_size = len(ids_from_chars.get_vocabulary())\n",
        "\n",
        "elif 'gpt' in tokenization:\n",
        "\n",
        "  enc = tiktoken.encoding_for_model(tokenization)\n",
        "  vocab_size = enc.n_vocab\n",
        "\n",
        "  def ids_from_chars(chars):\n",
        "    return enc.encode_ordinary(chars)\n",
        "\n",
        "  def text_from_ids(ids):\n",
        "    return enc.decode(ids)\n",
        "\n",
        "  train_tokens = enc.encode_ordinary(train_text)\n",
        "  test_tokens = enc.encode_ordinary(test_text)\n",
        "\n",
        "  print(f'Length of train text: {len(train_tokens)} tokens')\n",
        "  print(f'Length of test text: {len(test_tokens)} tokens')\n",
        "\n",
        "  ids_train_ds = tf.data.Dataset.from_tensor_slices(train_tokens)\n",
        "  ids_test_ds = tf.data.Dataset.from_tensor_slices(test_tokens)\n",
        "\n",
        "train_sequences = ids_train_ds.batch(context_size + 1, drop_remainder=True)\n",
        "test_sequences = ids_test_ds.batch(context_size + 1, drop_remainder=True)\n",
        "\n",
        "def split_input_target(sequence):\n",
        "  input_text = sequence[:-1]\n",
        "  target_text = sequence[1:]\n",
        "  return input_text, target_text\n",
        "\n",
        "train_ds = train_sequences.map(split_input_target)\n",
        "test_ds = test_sequences.map(split_input_target)\n",
        "\n",
        "# Buffer size to shuffle the dataset\n",
        "# (TF data is designed to work with possibly infinite sequences,\n",
        "# so it doesn't attempt to shuffle the entire sequence in memory. Instead,\n",
        "# it maintains a buffer in which it shuffles elements).\n",
        "BUFFER_SIZE = 10000\n",
        "\n",
        "train_ds = (\n",
        "    train_ds\n",
        "    .shuffle(BUFFER_SIZE)\n",
        "    .batch(batch_size, drop_remainder=True)\n",
        "    .prefetch(tf.data.experimental.AUTOTUNE))\n",
        "\n",
        "test_ds = (\n",
        "    test_ds\n",
        "    .batch(batch_size, drop_remainder=True)\n",
        "    .prefetch(tf.data.experimental.AUTOTUNE))\n",
        "\n",
        "print(f'Vocab size: {vocab_size}')\n",
        "# This is random loss value\n",
        "print(f'Random loss: {np.log(vocab_size)}')\n"
      ],
      "metadata": {
        "colab": {
          "base_uri": "https://localhost:8080/"
        },
        "id": "Kp41nGARTA0B",
        "outputId": "afd19558-9c34-45e9-dc0d-f8de137910e9"
      },
      "execution_count": 15,
      "outputs": [
        {
          "output_type": "stream",
          "name": "stdout",
          "text": [
            "Length of train text: 301966 tokens\n",
            "Length of test text: 17995 tokens\n",
            "Vocab size: 50257\n",
            "Random loss: 10.82490511970208\n"
          ]
        }
      ]
    },
    {
      "cell_type": "code",
      "source": [
        "x, labels = next(iter(train_ds))"
      ],
      "metadata": {
        "id": "Iu79sruGorjQ"
      },
      "execution_count": 16,
      "outputs": []
    },
    {
      "cell_type": "code",
      "source": [
        "print(x.numpy())\n",
        "print(labels.numpy())"
      ],
      "metadata": {
        "colab": {
          "base_uri": "https://localhost:8080/"
        },
        "id": "ciGuwwpmpkwa",
        "outputId": "5924af41-dee6-420e-88e0-503d61e0613b"
      },
      "execution_count": 17,
      "outputs": [
        {
          "output_type": "stream",
          "name": "stdout",
          "text": [
            "[[ 9706    11  8492 ...   198  1797  6242]\n",
            " [   39 11262 20754 ...   198 13482  1394]\n",
            " [  198    56 18213 ...    42 12599  1503]\n",
            " ...\n",
            " [13020   286   340 ... 16111   338  5474]\n",
            " [   64 25638    11 ...    11  3595  2933]\n",
            " [  314   351   345 ...  7604    13   198]]\n",
            "[[   11  8492 22027 ...  1797  6242 23304]\n",
            " [11262 20754    25 ... 13482  1394   262]\n",
            " [   56 18213    11 ... 12599  1503 28893]\n",
            " ...\n",
            " [  286   340   262 ...   338  5474    11]\n",
            " [25638    11  1497 ...  3595  2933    26]\n",
            " [  351   345   612 ...    13   198   198]]\n"
          ]
        }
      ]
    },
    {
      "cell_type": "code",
      "source": [
        "def train(model, train_ds, test_ds, epochs=50, patience=3):\n",
        "\n",
        "  loss_object = tf.keras.losses.SparseCategoricalCrossentropy(from_logits=True)\n",
        "  optimizer = tf.keras.optimizers.Adam()\n",
        "\n",
        "  train_loss = tf.keras.metrics.Mean(name='train_loss')\n",
        "  train_accuracy = tf.keras.metrics.SparseCategoricalAccuracy(name='train_accuracy')\n",
        "\n",
        "  test_loss = tf.keras.metrics.Mean(name='test_loss')\n",
        "  test_accuracy = tf.keras.metrics.SparseCategoricalAccuracy(name='test_accuracy')\n",
        "\n",
        "  @tf.function\n",
        "  def train_step(x, targets):\n",
        "    with tf.GradientTape() as tape:\n",
        "      # training=True is only needed if there are layers with different\n",
        "      # behavior during training versus inference (e.g. Dropout).\n",
        "      predictions = model(x, training=True)\n",
        "      B, T, C = predictions.shape\n",
        "      predictions = tf.reshape(predictions, (B*T, C))\n",
        "      targets = tf.reshape(targets, (B*T, 1))\n",
        "      loss = loss_object(targets, predictions)\n",
        "    gradients = tape.gradient(loss, model.trainable_variables)\n",
        "    optimizer.apply_gradients(zip(gradients, model.trainable_variables))\n",
        "\n",
        "    train_loss(loss)\n",
        "    train_accuracy(targets, predictions)\n",
        "\n",
        "  @tf.function\n",
        "  def test_step(x, targets):\n",
        "    # training=False is only needed if there are layers with different\n",
        "    # behavior during training versus inference (e.g. Dropout).\n",
        "    predictions = model(x, training=False)\n",
        "    B, T, C = predictions.shape\n",
        "    predictions = tf.reshape(predictions, (B*T, C))\n",
        "    targets = tf.reshape(targets, (B*T, 1))\n",
        "    t_loss = loss_object(targets, predictions)\n",
        "\n",
        "    test_loss(t_loss)\n",
        "    test_accuracy(targets, predictions)\n",
        "\n",
        "  best_loss = np.inf\n",
        "  best_epoch = 0\n",
        "\n",
        "  for epoch in range(epochs):\n",
        "    # Reset the metrics at the start of the next epoch\n",
        "    train_loss.reset_states()\n",
        "    train_accuracy.reset_states()\n",
        "    test_loss.reset_states()\n",
        "    test_accuracy.reset_states()\n",
        "\n",
        "    for images, labels in train_ds:\n",
        "      train_step(images, labels)\n",
        "\n",
        "    for test_images, test_labels in test_ds:\n",
        "      test_step(test_images, test_labels)\n",
        "\n",
        "    if test_loss.result().numpy() < best_loss:\n",
        "      best_loss = test_loss.result().numpy()\n",
        "      best_epoch = epoch\n",
        "\n",
        "    print(\n",
        "      f'Epoch {epoch + 1}, '\n",
        "      f'Loss: {train_loss.result()}, '\n",
        "      f'Accuracy: {train_accuracy.result() * 100}, '\n",
        "      f'Test Loss: {test_loss.result()}, '\n",
        "      f'Test Accuracy: {test_accuracy.result() * 100}'\n",
        "    )\n",
        "\n",
        "    if epoch > best_epoch + patience:\n",
        "      break"
      ],
      "metadata": {
        "id": "av0649QdMsyE"
      },
      "execution_count": 46,
      "outputs": []
    },
    {
      "cell_type": "code",
      "source": [
        "def generate(model, num_tokens, start_token=\"A\"):\n",
        "  sentence = ids_from_chars(start_token)\n",
        "  if not isinstance(sentence, list):\n",
        "    sentence = [sentence]\n",
        "  for i in trange(num_tokens):\n",
        "    x = np.array([sentence[-context_size:]]).astype(np.int32)\n",
        "    predictions = model(x)\n",
        "    predictions = tf.dtypes.cast(predictions, tf.float64)\n",
        "    probs = tf.nn.softmax(predictions[:, -1, :])\n",
        "    samp = np.random.multinomial(1, probs[0].numpy())\n",
        "    sentence.append(samp.argmax(0))\n",
        "  return text_from_ids(sentence)"
      ],
      "metadata": {
        "id": "0ae29sVgJofa"
      },
      "execution_count": 47,
      "outputs": []
    },
    {
      "cell_type": "markdown",
      "metadata": {
        "id": "iyP5uJSXAvLC"
      },
      "source": [
        "# Bigram Model\n"
      ]
    },
    {
      "cell_type": "code",
      "execution_count": 48,
      "metadata": {
        "id": "h3IKyzTCDNGo"
      },
      "outputs": [],
      "source": [
        "class Bigram(Model):\n",
        "  def __init__(self):\n",
        "    super().__init__()\n",
        "    self.embedding = tf.keras.layers.Embedding(vocab_size, vocab_size)\n",
        "\n",
        "  def call(self, x):\n",
        "    x = self.embedding(x)\n",
        "    return x\n",
        "\n",
        "# Create an instance of the model\n",
        "bigram_model = Bigram()"
      ]
    },
    {
      "cell_type": "code",
      "execution_count": 49,
      "metadata": {
        "id": "SbpC3AiwHic-"
      },
      "outputs": [],
      "source": [
        "if vocab_size < 10000:\n",
        "  text = generate(bigram_model, 100)\n",
        "  print(text)\n",
        "  train(bigram_model, train_ds, test_ds)\n",
        "  text = generate(bigram_model, 100)\n",
        "  print(text)"
      ]
    },
    {
      "cell_type": "markdown",
      "metadata": {
        "id": "oMmUNGWO2b29"
      },
      "source": [
        "# Constant Attention Scores"
      ]
    },
    {
      "cell_type": "code",
      "source": [
        "tril = tf.linalg.band_part(tf.ones((4, 4)), -1, 0)\n",
        "weights = tf.nn.softmax(tf.where(tril == 0, -1e9, 0), axis=-1) # (T, T)\n",
        "print(weights)"
      ],
      "metadata": {
        "colab": {
          "base_uri": "https://localhost:8080/"
        },
        "id": "4fVe21nPqCIS",
        "outputId": "38307cae-dcd3-4a8c-9fa0-972dca55acec"
      },
      "execution_count": 50,
      "outputs": [
        {
          "output_type": "stream",
          "name": "stdout",
          "text": [
            "tf.Tensor(\n",
            "[[1.         0.         0.         0.        ]\n",
            " [0.5        0.5        0.         0.        ]\n",
            " [0.33333334 0.33333334 0.33333334 0.        ]\n",
            " [0.25       0.25       0.25       0.25      ]], shape=(4, 4), dtype=float32)\n"
          ]
        }
      ]
    },
    {
      "cell_type": "code",
      "execution_count": 51,
      "metadata": {
        "id": "0VuCUEV72kck"
      },
      "outputs": [],
      "source": [
        "class ConstantAttention(Model):\n",
        "  def __init__(self):\n",
        "    super().__init__()\n",
        "    self.embedding = tf.keras.layers.Embedding(vocab_size, vocab_size)\n",
        "\n",
        "  def call(self, x):\n",
        "    x = self.embedding(x) # (B, T, vocab_size)\n",
        "    B, T, C = x.shape\n",
        "    tril = tf.linalg.band_part(tf.ones((T, T)), -1, 0)\n",
        "    weights = tf.nn.softmax(tf.where(tril == 0, -1e9, 0), axis=-1) # (T, T)\n",
        "    x = tf.linalg.matmul(weights, x)\n",
        "    return x\n",
        "\n",
        "# Create an instance of the model\n",
        "constant_model = ConstantAttention()"
      ]
    },
    {
      "cell_type": "code",
      "execution_count": 52,
      "metadata": {
        "id": "wOhG6aoPbhbf"
      },
      "outputs": [],
      "source": [
        "if vocab_size < 10000:\n",
        "  train(constant_model, train_ds, test_ds)\n",
        "  text = generate(constant_model, 100)\n",
        "  print(text)"
      ]
    },
    {
      "cell_type": "markdown",
      "metadata": {
        "id": "3CW1lLYVT68b"
      },
      "source": [
        "# Self Attention\n"
      ]
    },
    {
      "cell_type": "code",
      "execution_count": 53,
      "metadata": {
        "id": "xvsnGxQF2nnI"
      },
      "outputs": [],
      "source": [
        "class DotProductAttention(tf.keras.layers.Layer):\n",
        "    def __init__(self, head_size, dropout=0, causal=True, **kwargs):\n",
        "      super().__init__(**kwargs)\n",
        "      self.head_size = head_size\n",
        "      self.dropout = dropout\n",
        "      self.causal = causal\n",
        "      self.key = tf.keras.layers.Dense(head_size, activation=None, use_bias=False, kernel_initializer=tf.random_normal_initializer(stddev=0.02))\n",
        "      self.query = tf.keras.layers.Dense(head_size, activation=None, use_bias=False, kernel_initializer=tf.random_normal_initializer(stddev=0.02))\n",
        "      self.value = tf.keras.layers.Dense(head_size, activation=None, use_bias=False, kernel_initializer=tf.random_normal_initializer(stddev=0.02))\n",
        "\n",
        "    def call(self, x):\n",
        "      k = self.key(x)   # (B,T,head_size)\n",
        "      q = self.query(x) # (B,T,head_size)\n",
        "      v = self.value(x)\n",
        "      scores = tf.linalg.matmul(q, k, transpose_b=True) / tf.math.sqrt(tf.cast(self.head_size, tf.float32)) # (B, T, head_size) @ (B, head_size, T) -> (B, T, T)\n",
        "      if self.causal:\n",
        "        B, T, C = x.shape\n",
        "        mask = tf.linalg.band_part(tf.ones((T, T)), 0, -1) - tf.linalg.band_part(tf.ones((T, T)), 0, 0)\n",
        "        scores += -1e9 * mask\n",
        "      weights = tf.nn.softmax(scores)\n",
        "      if self.dropout > 0:\n",
        "        weights = tf.keras.layers.Dropout(self.dropout)(weights)\n",
        "      return tf.linalg.matmul(weights, v)"
      ]
    },
    {
      "cell_type": "code",
      "execution_count": 54,
      "metadata": {
        "id": "1gYdo5gyMlr1"
      },
      "outputs": [],
      "source": [
        "class AttentionV1(Model):\n",
        "  def __init__(self, embed_size, dropout=0):\n",
        "    super().__init__()\n",
        "    self.position_embedding = tf.keras.layers.Embedding(context_size, embed_size,\n",
        "                                                        embeddings_initializer=tf.random_normal_initializer(stddev=0.02))\n",
        "    self.embedding = tf.keras.layers.Embedding(vocab_size, embed_size,\n",
        "                                               embeddings_initializer=tf.random_normal_initializer(stddev=0.02))\n",
        "    self.attention = DotProductAttention(embed_size, dropout=dropout)\n",
        "    self.top = tf.keras.layers.Dense(vocab_size, kernel_initializer=tf.random_normal_initializer(stddev=0.02))\n",
        "\n",
        "  def call(self, x):\n",
        "    B, T = x.shape\n",
        "    x = self.position_embedding(tf.range(T)) + self.embedding(x) # (B, T, embed_size)\n",
        "    x = self.attention(x)\n",
        "    x = self.top(x)\n",
        "    return x\n",
        "\n",
        "# Create an instance of the model\n",
        "attention_v1 = AttentionV1(384, dropout=0.1)"
      ]
    },
    {
      "cell_type": "code",
      "source": [
        "train(attention_v1, train_ds, test_ds)"
      ],
      "metadata": {
        "id": "Uyz2_JXlPfj-",
        "colab": {
          "base_uri": "https://localhost:8080/"
        },
        "outputId": "7a854e70-365a-4cf8-bbb4-874554840452"
      },
      "execution_count": 55,
      "outputs": [
        {
          "output_type": "stream",
          "name": "stdout",
          "text": [
            "Epoch 1, Loss: 10.614594459533691, Accuracy: 11.096529960632324, Test Loss: 9.75546646118164, Test Accuracy: 12.8662109375\n",
            "Epoch 2, Loss: 7.568630695343018, Accuracy: 11.781820297241211, Test Loss: 6.9852070808410645, Test Accuracy: 12.8662109375\n",
            "Epoch 3, Loss: 6.492565631866455, Accuracy: 11.771646499633789, Test Loss: 6.583081245422363, Test Accuracy: 12.8662109375\n",
            "Epoch 4, Loss: 6.3737473487854, Accuracy: 11.75672721862793, Test Loss: 6.561119079589844, Test Accuracy: 12.8662109375\n",
            "Epoch 5, Loss: 6.353347301483154, Accuracy: 11.76283073425293, Test Loss: 6.554330348968506, Test Accuracy: 12.8662109375\n",
            "Epoch 6, Loss: 6.348663806915283, Accuracy: 11.77537727355957, Test Loss: 6.551943778991699, Test Accuracy: 12.8662109375\n",
            "Epoch 7, Loss: 6.348412990570068, Accuracy: 11.761136054992676, Test Loss: 6.552857398986816, Test Accuracy: 12.8662109375\n",
            "Epoch 8, Loss: 6.345945835113525, Accuracy: 11.766561508178711, Test Loss: 6.547239303588867, Test Accuracy: 12.8662109375\n",
            "Epoch 9, Loss: 6.340625762939453, Accuracy: 11.765204429626465, Test Loss: 6.544307708740234, Test Accuracy: 12.8662109375\n",
            "Epoch 10, Loss: 6.31717586517334, Accuracy: 11.767916679382324, Test Loss: 6.4915571212768555, Test Accuracy: 12.8662109375\n",
            "Epoch 11, Loss: 6.236695289611816, Accuracy: 11.75537109375, Test Loss: 6.392917156219482, Test Accuracy: 12.8662109375\n",
            "Epoch 12, Loss: 6.166717529296875, Accuracy: 11.76011848449707, Test Loss: 6.386666774749756, Test Accuracy: 12.8662109375\n",
            "Epoch 13, Loss: 6.141544818878174, Accuracy: 11.771307945251465, Test Loss: 6.394335746765137, Test Accuracy: 12.8662109375\n",
            "Epoch 14, Loss: 6.133432865142822, Accuracy: 11.773343086242676, Test Loss: 6.404023170471191, Test Accuracy: 12.8662109375\n",
            "Epoch 15, Loss: 6.127783298492432, Accuracy: 11.7645263671875, Test Loss: 6.405817985534668, Test Accuracy: 12.8662109375\n",
            "Epoch 16, Loss: 6.119970321655273, Accuracy: 11.76317024230957, Test Loss: 6.409546852111816, Test Accuracy: 12.8662109375\n"
          ]
        }
      ]
    },
    {
      "cell_type": "code",
      "source": [
        "text = generate(attention_v1, 100)"
      ],
      "metadata": {
        "id": "mVyZn3UwMS03",
        "colab": {
          "base_uri": "https://localhost:8080/",
          "height": 49,
          "referenced_widgets": [
            "3e109a9d54e34e239374be1c3d12696f",
            "a99a7b0bb3c64de5861c57208ae59f16",
            "6c536b8397a540d9a353dd4e9a6c8fe1",
            "6bea5069732543849c239b275bf67e97",
            "104617605328412c8840cc16a4cb5e77",
            "2ac094bf9f844f1ba2716cdcac8c4b1d",
            "10451bc1bc9048e9acea668e951cdcd0",
            "509cc7d2a6494d359e43868dee2f9ac0",
            "41115ac491284656a404c44422917976",
            "a397a2577d394819a441017ac0e7773a",
            "9b8598c3da584b68ba5bbbe1ad446fa1"
          ]
        },
        "outputId": "4bde1d1e-ec0e-42c7-d1ef-8ab9e17fa7ef"
      },
      "execution_count": 56,
      "outputs": [
        {
          "output_type": "display_data",
          "data": {
            "text/plain": [
              "  0%|          | 0/100 [00:00<?, ?it/s]"
            ],
            "application/vnd.jupyter.widget-view+json": {
              "version_major": 2,
              "version_minor": 0,
              "model_id": "3e109a9d54e34e239374be1c3d12696f"
            }
          },
          "metadata": {}
        }
      ]
    },
    {
      "cell_type": "code",
      "source": [
        "print(text)"
      ],
      "metadata": {
        "id": "uiJ0w68taz3b",
        "colab": {
          "base_uri": "https://localhost:8080/"
        },
        "outputId": "a8f04198-6b90-452d-f645-f1b129c55b84"
      },
      "execution_count": 57,
      "outputs": [
        {
          "output_type": "stream",
          "name": "stdout",
          "text": [
            "Aabases dry me runENS Lord ' marriage Tower think's\n",
            "\n",
            " that\n",
            ".\n",
            " fromL!., theerFor receiving\n",
            " Hastings with they hath mount;TERTo current mine immediately\n",
            " blessThereb thee\n",
            " neighbour hast sight\n",
            " thisLookAnd thisThe prove'dES\n",
            " them goWhy heavy honour heUC stay\n",
            "OWhat thee\n",
            ".,\n",
            " wither pleasure;'\n",
            " Rivers? giving willingly your rivalThat areed\n",
            "; in:\n",
            ".\n",
            " which\n",
            ";That\n",
            "\n"
          ]
        }
      ]
    },
    {
      "cell_type": "markdown",
      "source": [
        "# Multi-head attention"
      ],
      "metadata": {
        "id": "daXlYK_sKDvi"
      }
    },
    {
      "cell_type": "code",
      "source": [
        "class MultiHeadAttention(tf.keras.layers.Layer):\n",
        "    def __init__(self, num_heads, head_size, embed_size, dropout=0, **kwargs):\n",
        "      super().__init__(**kwargs)\n",
        "      self.heads = [DotProductAttention(head_size, dropout=dropout) for _ in range(num_heads)]\n",
        "      self.proj = tf.keras.layers.Dense(embed_size, kernel_initializer=tf.random_normal_initializer(stddev=0.02))\n",
        "\n",
        "    def call(self, x, mask=None):\n",
        "      x = tf.concat([h(x) for h in self.heads], axis=-1)\n",
        "      x = self.proj(x)\n",
        "      return x"
      ],
      "metadata": {
        "id": "RrJXh52QQqvS"
      },
      "execution_count": 58,
      "outputs": []
    },
    {
      "cell_type": "code",
      "source": [
        "class AttentionV2(Model):\n",
        "  def __init__(self, num_heads, embed_size, dropout=0):\n",
        "    super().__init__()\n",
        "    self.position_embedding = tf.keras.layers.Embedding(context_size, embed_size,\n",
        "                                                        embeddings_initializer=tf.random_normal_initializer(stddev=0.02))\n",
        "    self.embedding = tf.keras.layers.Embedding(vocab_size, embed_size,\n",
        "                                               embeddings_initializer=tf.random_normal_initializer(stddev=0.02))\n",
        "    head_size = embed_size // num_heads\n",
        "    self.attention = MultiHeadAttention(num_heads, head_size, embed_size, dropout=dropout)\n",
        "    self.top = tf.keras.layers.Dense(vocab_size, kernel_initializer=tf.random_normal_initializer(stddev=0.02))\n",
        "\n",
        "  def call(self, x):\n",
        "    B, T = x.shape\n",
        "    x = self.position_embedding(tf.range(T)) + self.embedding(x) # (B, T, embed_size)\n",
        "    B, T, C = x.shape\n",
        "    mask = tf.linalg.band_part(tf.ones((T, T)), 0, -1) - tf.linalg.band_part(tf.ones((T, T)), 0, 0)\n",
        "    x = self.attention(x, mask=mask)\n",
        "    x = self.top(x)\n",
        "    return x\n",
        "\n",
        "# Create an instance of the model\n",
        "attention_v2 = AttentionV2(6, 384, dropout=0.1)"
      ],
      "metadata": {
        "id": "kW9edSLjIx0J"
      },
      "execution_count": 59,
      "outputs": []
    },
    {
      "cell_type": "code",
      "source": [
        "train(attention_v2, train_ds, test_ds)"
      ],
      "metadata": {
        "id": "35SsMKU5Ldja",
        "colab": {
          "base_uri": "https://localhost:8080/"
        },
        "outputId": "1b46b558-656d-4f01-dac2-ec16d078b558"
      },
      "execution_count": 60,
      "outputs": [
        {
          "output_type": "stream",
          "name": "stdout",
          "text": [
            "Epoch 1, Loss: 10.091297149658203, Accuracy: 11.096869468688965, Test Loss: 6.823359966278076, Test Accuracy: 12.8662109375\n",
            "Epoch 2, Loss: 6.730208873748779, Accuracy: 7.262166500091553, Test Loss: 6.743961334228516, Test Accuracy: 5.419921875\n",
            "Epoch 3, Loss: 6.424514293670654, Accuracy: 9.41908073425293, Test Loss: 6.578952789306641, Test Accuracy: 12.8662109375\n",
            "Epoch 4, Loss: 6.359495639801025, Accuracy: 11.773343086242676, Test Loss: 6.554649353027344, Test Accuracy: 12.8662109375\n",
            "Epoch 5, Loss: 6.3473639488220215, Accuracy: 11.77842903137207, Test Loss: 6.5458221435546875, Test Accuracy: 12.8662109375\n",
            "Epoch 6, Loss: 6.347042083740234, Accuracy: 11.767239570617676, Test Loss: 6.5592451095581055, Test Accuracy: 12.8662109375\n",
            "Epoch 7, Loss: 6.342369079589844, Accuracy: 11.7584228515625, Test Loss: 6.5506696701049805, Test Accuracy: 12.8662109375\n",
            "Epoch 8, Loss: 6.329826354980469, Accuracy: 11.767916679382324, Test Loss: 6.509790897369385, Test Accuracy: 12.8662109375\n",
            "Epoch 9, Loss: 6.239135265350342, Accuracy: 11.77503776550293, Test Loss: 6.404960632324219, Test Accuracy: 12.8662109375\n",
            "Epoch 10, Loss: 6.155434608459473, Accuracy: 11.76893424987793, Test Loss: 6.404873371124268, Test Accuracy: 12.8662109375\n",
            "Epoch 11, Loss: 6.133880138397217, Accuracy: 11.769951820373535, Test Loss: 6.4096784591674805, Test Accuracy: 12.8662109375\n",
            "Epoch 12, Loss: 6.123076438903809, Accuracy: 11.768256187438965, Test Loss: 6.4189133644104, Test Accuracy: 12.8662109375\n",
            "Epoch 13, Loss: 6.11872673034668, Accuracy: 11.761813163757324, Test Loss: 6.41815185546875, Test Accuracy: 12.8662109375\n",
            "Epoch 14, Loss: 6.11467981338501, Accuracy: 11.764187812805176, Test Loss: 6.43168830871582, Test Accuracy: 12.8662109375\n"
          ]
        }
      ]
    },
    {
      "cell_type": "code",
      "source": [
        "text = generate(attention_v2, 100)"
      ],
      "metadata": {
        "id": "uLqBY4DhB5y4",
        "colab": {
          "base_uri": "https://localhost:8080/",
          "height": 49,
          "referenced_widgets": [
            "4bb7926233b1417a88dade325e2dffbf",
            "90c047e28b114f29a083b1c0d595ca80",
            "cddb6c2ebdf84634ae8eb11c38858ad2",
            "cd5b0bacb4894970b9475fa00bcbcafb",
            "2170bbea1f824955847da644daf104d9",
            "0020834aa6254574b3e2b2d73c7e2309",
            "d41beacb33f742de8a137a57feebb351",
            "d064246abccb40ea9d016ea1177b8a30",
            "2dba63eb85994665b65d2d81a88e3444",
            "4524af20dd31466f8842eba32db66092",
            "15c5acf6604149beacb7e63070c06ea5"
          ]
        },
        "outputId": "67ea7f48-9ff8-40ae-d32a-28633a4bf626"
      },
      "execution_count": 61,
      "outputs": [
        {
          "output_type": "display_data",
          "data": {
            "text/plain": [
              "  0%|          | 0/100 [00:00<?, ?it/s]"
            ],
            "application/vnd.jupyter.widget-view+json": {
              "version_major": 2,
              "version_minor": 0,
              "model_id": "4bb7926233b1417a88dade325e2dffbf"
            }
          },
          "metadata": {}
        }
      ]
    },
    {
      "cell_type": "code",
      "source": [
        "print(text)"
      ],
      "metadata": {
        "id": "xDZFfKaobfYC",
        "colab": {
          "base_uri": "https://localhost:8080/"
        },
        "outputId": "a9b6c30e-102a-44f2-c2ab-8718fafe18e3"
      },
      "execution_count": 62,
      "outputs": [
        {
          "output_type": "stream",
          "name": "stdout",
          "text": [
            "AING sparks\n",
            "!, set.\n",
            "COMAD weATEndowing friends. in newsUCK lov the for haste' ear you\n",
            "TES market youThe live a hold one,AN quite unt feel IThings together\n",
            " sham bean go IHe blood and::\n",
            " death\n",
            " all I to pr near\n",
            " marks would in\n",
            " I a unsett smooth, such.I, like?\n",
            " law him shall's begging the lib would timeThThird, art makeam, alas encounterNo from\n"
          ]
        }
      ]
    },
    {
      "cell_type": "markdown",
      "source": [
        "# GPT Model"
      ],
      "metadata": {
        "id": "CJlaHsANfag_"
      }
    },
    {
      "cell_type": "code",
      "source": [
        "class FeedForward(tf.keras.layers.Layer):\n",
        "    def __init__(self, embed_size, dropout=0, **kwargs):\n",
        "      super().__init__(**kwargs)\n",
        "      self.dropout = dropout\n",
        "      self.ff1 = tf.keras.layers.Dense(4 * embed_size, activation='relu', kernel_initializer=tf.random_normal_initializer(stddev=0.02))\n",
        "      self.ff2 = tf.keras.layers.Dense(embed_size, kernel_initializer=tf.random_normal_initializer(stddev=0.02))\n",
        "\n",
        "    def call(self, x):\n",
        "      x = self.ff1(x)\n",
        "      x = self.ff2(x)\n",
        "      if self.dropout > 0:\n",
        "        x = tf.keras.layers.Dropout(self.dropout)(x)\n",
        "      return x"
      ],
      "metadata": {
        "id": "Q-z_ByopOGvn"
      },
      "execution_count": 63,
      "outputs": []
    },
    {
      "cell_type": "code",
      "source": [
        "class Block(tf.keras.layers.Layer):\n",
        "    def __init__(self, num_heads, embed_size, dropout=0, **kwargs):\n",
        "      super().__init__(**kwargs)\n",
        "      head_size = embed_size // num_heads\n",
        "      self.attention = MultiHeadAttention(num_heads, head_size, embed_size, dropout=dropout)\n",
        "      self.ff = FeedForward(embed_size, dropout=dropout)\n",
        "      self.ln1 = tf.keras.layers.LayerNormalization()\n",
        "      self.ln2 = tf.keras.layers.LayerNormalization()\n",
        "\n",
        "    def call(self, x):\n",
        "      x = x + self.attention(self.ln1(x))\n",
        "      x = x + self.ff(self.ln2(x))\n",
        "      return x"
      ],
      "metadata": {
        "id": "SwT9eFJ3fULw"
      },
      "execution_count": 64,
      "outputs": []
    },
    {
      "cell_type": "code",
      "source": [
        "class GPT(Model):\n",
        "  def __init__(self, num_heads, embed_size, num_layers, dropout=0):\n",
        "    super().__init__()\n",
        "    self.position_embedding = tf.keras.layers.Embedding(context_size, embed_size,\n",
        "                                                        embeddings_initializer=tf.random_normal_initializer(stddev=0.02))\n",
        "    self.embedding = tf.keras.layers.Embedding(vocab_size, embed_size,\n",
        "                                               embeddings_initializer=tf.random_normal_initializer(stddev=0.02))\n",
        "    self.blocks = tf.keras.Sequential([Block(num_heads, embed_size, dropout=dropout) for _ in range(num_layers)])\n",
        "    self.top = tf.keras.layers.Dense(vocab_size, kernel_initializer=tf.random_normal_initializer(stddev=0.02))\n",
        "    self.ln = tf.keras.layers.LayerNormalization()\n",
        "\n",
        "  def call(self, x):\n",
        "    B, T = x.shape\n",
        "    x = self.position_embedding(tf.range(T)) + self.embedding(x) # (B, T, embed_size)\n",
        "    x = self.blocks(x)\n",
        "    x = self.ln(x) #(B, T, embed_size)\n",
        "    x = self.top(x) #(B, T, vocab_size)\n",
        "    return x\n",
        "\n",
        "# Create an instance of the model\n",
        "gpt_nano = GPT(6, 384, 6, dropout=0.2)"
      ],
      "metadata": {
        "id": "G256fCR5gFW5"
      },
      "execution_count": 65,
      "outputs": []
    },
    {
      "cell_type": "code",
      "source": [
        "train(gpt_nano, train_ds, test_ds)"
      ],
      "metadata": {
        "id": "2fZd5-ZMmjo-",
        "colab": {
          "base_uri": "https://localhost:8080/"
        },
        "outputId": "7fd2bd1f-7cd9-408c-dbfd-3002dbf8f854"
      },
      "execution_count": null,
      "outputs": [
        {
          "output_type": "stream",
          "name": "stdout",
          "text": [
            "Epoch 1, Loss: 7.700555801391602, Accuracy: 11.250814437866211, Test Loss: 6.519326686859131, Test Accuracy: 12.8662109375\n",
            "Epoch 2, Loss: 6.244474411010742, Accuracy: 14.95530891418457, Test Loss: 6.281233787536621, Test Accuracy: 16.131591796875\n",
            "Epoch 3, Loss: 6.021170616149902, Accuracy: 15.551079750061035, Test Loss: 6.168852806091309, Test Accuracy: 16.0888671875\n",
            "Epoch 4, Loss: 5.91624116897583, Accuracy: 15.58363151550293, Test Loss: 6.134458541870117, Test Accuracy: 16.094970703125\n",
            "Epoch 5, Loss: 5.786737442016602, Accuracy: 15.686713218688965, Test Loss: 6.025511741638184, Test Accuracy: 16.650390625\n",
            "Epoch 6, Loss: 5.596808910369873, Accuracy: 17.22276496887207, Test Loss: 5.884128570556641, Test Accuracy: 18.145751953125\n",
            "Epoch 7, Loss: 5.39631462097168, Accuracy: 18.26137924194336, Test Loss: 5.802062511444092, Test Accuracy: 18.255615234375\n",
            "Epoch 8, Loss: 5.24469518661499, Accuracy: 18.950397491455078, Test Loss: 5.662423610687256, Test Accuracy: 19.158935546875\n",
            "Epoch 9, Loss: 5.108660697937012, Accuracy: 19.64348793029785, Test Loss: 5.596845626831055, Test Accuracy: 19.3603515625\n",
            "Epoch 10, Loss: 4.979528903961182, Accuracy: 20.59597396850586, Test Loss: 5.533779621124268, Test Accuracy: 19.500732421875\n",
            "Epoch 11, Loss: 4.868864059448242, Accuracy: 21.59254264831543, Test Loss: 5.4849348068237305, Test Accuracy: 19.891357421875\n",
            "Epoch 12, Loss: 4.766447067260742, Accuracy: 22.70440101623535, Test Loss: 5.47580099105835, Test Accuracy: 20.391845703125\n",
            "Epoch 13, Loss: 4.668896198272705, Accuracy: 23.62060546875, Test Loss: 5.443716049194336, Test Accuracy: 20.91064453125\n",
            "Epoch 14, Loss: 4.586897850036621, Accuracy: 24.41847038269043, Test Loss: 5.399576663970947, Test Accuracy: 20.81298828125\n",
            "Epoch 15, Loss: 4.501739978790283, Accuracy: 25.14919662475586, Test Loss: 5.429567813873291, Test Accuracy: 20.56884765625\n",
            "Epoch 16, Loss: 4.428410530090332, Accuracy: 25.84092903137207, Test Loss: 5.405611038208008, Test Accuracy: 21.148681640625\n",
            "Epoch 17, Loss: 4.347597122192383, Accuracy: 26.60759735107422, Test Loss: 5.398854732513428, Test Accuracy: 21.319580078125\n",
            "Epoch 18, Loss: 4.271320819854736, Accuracy: 27.1728515625, Test Loss: 5.409642219543457, Test Accuracy: 21.49658203125\n",
            "Epoch 19, Loss: 4.199753761291504, Accuracy: 27.789306640625, Test Loss: 5.417230606079102, Test Accuracy: 21.77734375\n",
            "Epoch 20, Loss: 4.122200965881348, Accuracy: 28.45730209350586, Test Loss: 5.416594505310059, Test Accuracy: 22.161865234375\n"
          ]
        }
      ]
    },
    {
      "cell_type": "code",
      "source": [
        "text = generate(gpt_nano, 100)"
      ],
      "metadata": {
        "id": "TV0257HDhREW",
        "colab": {
          "base_uri": "https://localhost:8080/",
          "height": 49,
          "referenced_widgets": [
            "03005c7066f54bb5910cc03657d68f1e",
            "0b4c1c52ee4f4b13953a1433d03e2dd8",
            "59eb669efbce45feb09c30a57ac65373",
            "5d0c2e7484c2450aa0d10d67c689356b",
            "f175f877db9e40b99e8ae1a57f041030",
            "728f3195788a403a898da256d6fea68d",
            "81a9b841f99d4937bbd4d1ab30a12a5f",
            "6fe6cc32a1ab476186a37334458312e3",
            "df542a422f00470fb19f5c1c33aa620b",
            "91e0c55790c9436f92549c195a91be7f",
            "f8ad681ee16349129312d87e8c61fcff"
          ]
        },
        "outputId": "1ede1511-623e-49bb-d9ac-3311321bf334"
      },
      "execution_count": 71,
      "outputs": [
        {
          "output_type": "display_data",
          "data": {
            "text/plain": [
              "  0%|          | 0/100 [00:00<?, ?it/s]"
            ],
            "application/vnd.jupyter.widget-view+json": {
              "version_major": 2,
              "version_minor": 0,
              "model_id": "03005c7066f54bb5910cc03657d68f1e"
            }
          },
          "metadata": {}
        }
      ]
    },
    {
      "cell_type": "code",
      "source": [
        "print(text)"
      ],
      "metadata": {
        "id": "wp3soTjVmg6c",
        "colab": {
          "base_uri": "https://localhost:8080/"
        },
        "outputId": "6679e642-bebe-4dcd-9dc4-3224a16b07ac"
      },
      "execution_count": 72,
      "outputs": [
        {
          "output_type": "stream",
          "name": "stdout",
          "text": [
            "Aaid seem like acknowledge, on as a breast,\n",
            "To venom of this live,Iron with glorious Eden,\n",
            "Being good of triumph supp debregnine like foremostadoes in the crown\n",
            "settled than injustice seated rivers: you did bow no made his majesty,\n",
            "With audience of\n",
            "Stillascels of a base times\n",
            "Repodes, the spring of grave and a largear\n",
            "HERMakes himself carriageed wake in heart\n",
            "Or then, their pleasures of light\n",
            "Thy, like\n"
          ]
        }
      ]
    },
    {
      "cell_type": "code",
      "source": [
        "gpt_nano.summary()"
      ],
      "metadata": {
        "id": "fCxUl3PpAsBY",
        "colab": {
          "base_uri": "https://localhost:8080/"
        },
        "outputId": "878debe5-b5e3-41a7-b016-2375e54e5f25"
      },
      "execution_count": 69,
      "outputs": [
        {
          "metadata": {
            "tags": null
          },
          "name": "stdout",
          "output_type": "stream",
          "text": [
            "Model: \"gpt_1\"\n",
            "_________________________________________________________________\n",
            " Layer (type)                Output Shape              Param #   \n",
            "=================================================================\n",
            " embedding_14 (Embedding)    multiple                  98304     \n",
            "                                                                 \n",
            " embedding_15 (Embedding)    multiple                  19298688  \n",
            "                                                                 \n",
            " sequential_1 (Sequential)   (64, 256, 384)            10639872  \n",
            "                                                                 \n",
            " dense_301 (Dense)           multiple                  19348945  \n",
            "                                                                 \n",
            " layer_normalization_25 (La  multiple                  768       \n",
            " yerNormalization)                                               \n",
            "                                                                 \n",
            "=================================================================\n",
            "Total params: 49386577 (188.39 MB)\n",
            "Trainable params: 49386577 (188.39 MB)\n",
            "Non-trainable params: 0 (0.00 Byte)\n",
            "_________________________________________________________________\n"
          ]
        }
      ]
    },
    {
      "cell_type": "code",
      "source": [
        "# GPT-small\n",
        "#gpt3_small = GPT(12, 768, 12, dropout=0.2)"
      ],
      "metadata": {
        "id": "VyWGnmO0yl67"
      },
      "execution_count": 70,
      "outputs": []
    }
  ],
  "metadata": {
    "accelerator": "GPU",
    "colab": {
      "provenance": [],
      "gpuType": "A100",
      "machine_shape": "hm",
      "authorship_tag": "ABX9TyMxUmmECPvhufsDTAom7Ge5",
      "include_colab_link": true
    },
    "kernelspec": {
      "display_name": "Python 3",
      "name": "python3"
    },
    "widgets": {
      "application/vnd.jupyter.widget-state+json": {
        "3e109a9d54e34e239374be1c3d12696f": {
          "model_module": "@jupyter-widgets/controls",
          "model_name": "HBoxModel",
          "model_module_version": "1.5.0",
          "state": {
            "_dom_classes": [],
            "_model_module": "@jupyter-widgets/controls",
            "_model_module_version": "1.5.0",
            "_model_name": "HBoxModel",
            "_view_count": null,
            "_view_module": "@jupyter-widgets/controls",
            "_view_module_version": "1.5.0",
            "_view_name": "HBoxView",
            "box_style": "",
            "children": [
              "IPY_MODEL_a99a7b0bb3c64de5861c57208ae59f16",
              "IPY_MODEL_6c536b8397a540d9a353dd4e9a6c8fe1",
              "IPY_MODEL_6bea5069732543849c239b275bf67e97"
            ],
            "layout": "IPY_MODEL_104617605328412c8840cc16a4cb5e77"
          }
        },
        "a99a7b0bb3c64de5861c57208ae59f16": {
          "model_module": "@jupyter-widgets/controls",
          "model_name": "HTMLModel",
          "model_module_version": "1.5.0",
          "state": {
            "_dom_classes": [],
            "_model_module": "@jupyter-widgets/controls",
            "_model_module_version": "1.5.0",
            "_model_name": "HTMLModel",
            "_view_count": null,
            "_view_module": "@jupyter-widgets/controls",
            "_view_module_version": "1.5.0",
            "_view_name": "HTMLView",
            "description": "",
            "description_tooltip": null,
            "layout": "IPY_MODEL_2ac094bf9f844f1ba2716cdcac8c4b1d",
            "placeholder": "​",
            "style": "IPY_MODEL_10451bc1bc9048e9acea668e951cdcd0",
            "value": "100%"
          }
        },
        "6c536b8397a540d9a353dd4e9a6c8fe1": {
          "model_module": "@jupyter-widgets/controls",
          "model_name": "FloatProgressModel",
          "model_module_version": "1.5.0",
          "state": {
            "_dom_classes": [],
            "_model_module": "@jupyter-widgets/controls",
            "_model_module_version": "1.5.0",
            "_model_name": "FloatProgressModel",
            "_view_count": null,
            "_view_module": "@jupyter-widgets/controls",
            "_view_module_version": "1.5.0",
            "_view_name": "ProgressView",
            "bar_style": "success",
            "description": "",
            "description_tooltip": null,
            "layout": "IPY_MODEL_509cc7d2a6494d359e43868dee2f9ac0",
            "max": 100,
            "min": 0,
            "orientation": "horizontal",
            "style": "IPY_MODEL_41115ac491284656a404c44422917976",
            "value": 100
          }
        },
        "6bea5069732543849c239b275bf67e97": {
          "model_module": "@jupyter-widgets/controls",
          "model_name": "HTMLModel",
          "model_module_version": "1.5.0",
          "state": {
            "_dom_classes": [],
            "_model_module": "@jupyter-widgets/controls",
            "_model_module_version": "1.5.0",
            "_model_name": "HTMLModel",
            "_view_count": null,
            "_view_module": "@jupyter-widgets/controls",
            "_view_module_version": "1.5.0",
            "_view_name": "HTMLView",
            "description": "",
            "description_tooltip": null,
            "layout": "IPY_MODEL_a397a2577d394819a441017ac0e7773a",
            "placeholder": "​",
            "style": "IPY_MODEL_9b8598c3da584b68ba5bbbe1ad446fa1",
            "value": " 100/100 [00:01&lt;00:00, 87.64it/s]"
          }
        },
        "104617605328412c8840cc16a4cb5e77": {
          "model_module": "@jupyter-widgets/base",
          "model_name": "LayoutModel",
          "model_module_version": "1.2.0",
          "state": {
            "_model_module": "@jupyter-widgets/base",
            "_model_module_version": "1.2.0",
            "_model_name": "LayoutModel",
            "_view_count": null,
            "_view_module": "@jupyter-widgets/base",
            "_view_module_version": "1.2.0",
            "_view_name": "LayoutView",
            "align_content": null,
            "align_items": null,
            "align_self": null,
            "border": null,
            "bottom": null,
            "display": null,
            "flex": null,
            "flex_flow": null,
            "grid_area": null,
            "grid_auto_columns": null,
            "grid_auto_flow": null,
            "grid_auto_rows": null,
            "grid_column": null,
            "grid_gap": null,
            "grid_row": null,
            "grid_template_areas": null,
            "grid_template_columns": null,
            "grid_template_rows": null,
            "height": null,
            "justify_content": null,
            "justify_items": null,
            "left": null,
            "margin": null,
            "max_height": null,
            "max_width": null,
            "min_height": null,
            "min_width": null,
            "object_fit": null,
            "object_position": null,
            "order": null,
            "overflow": null,
            "overflow_x": null,
            "overflow_y": null,
            "padding": null,
            "right": null,
            "top": null,
            "visibility": null,
            "width": null
          }
        },
        "2ac094bf9f844f1ba2716cdcac8c4b1d": {
          "model_module": "@jupyter-widgets/base",
          "model_name": "LayoutModel",
          "model_module_version": "1.2.0",
          "state": {
            "_model_module": "@jupyter-widgets/base",
            "_model_module_version": "1.2.0",
            "_model_name": "LayoutModel",
            "_view_count": null,
            "_view_module": "@jupyter-widgets/base",
            "_view_module_version": "1.2.0",
            "_view_name": "LayoutView",
            "align_content": null,
            "align_items": null,
            "align_self": null,
            "border": null,
            "bottom": null,
            "display": null,
            "flex": null,
            "flex_flow": null,
            "grid_area": null,
            "grid_auto_columns": null,
            "grid_auto_flow": null,
            "grid_auto_rows": null,
            "grid_column": null,
            "grid_gap": null,
            "grid_row": null,
            "grid_template_areas": null,
            "grid_template_columns": null,
            "grid_template_rows": null,
            "height": null,
            "justify_content": null,
            "justify_items": null,
            "left": null,
            "margin": null,
            "max_height": null,
            "max_width": null,
            "min_height": null,
            "min_width": null,
            "object_fit": null,
            "object_position": null,
            "order": null,
            "overflow": null,
            "overflow_x": null,
            "overflow_y": null,
            "padding": null,
            "right": null,
            "top": null,
            "visibility": null,
            "width": null
          }
        },
        "10451bc1bc9048e9acea668e951cdcd0": {
          "model_module": "@jupyter-widgets/controls",
          "model_name": "DescriptionStyleModel",
          "model_module_version": "1.5.0",
          "state": {
            "_model_module": "@jupyter-widgets/controls",
            "_model_module_version": "1.5.0",
            "_model_name": "DescriptionStyleModel",
            "_view_count": null,
            "_view_module": "@jupyter-widgets/base",
            "_view_module_version": "1.2.0",
            "_view_name": "StyleView",
            "description_width": ""
          }
        },
        "509cc7d2a6494d359e43868dee2f9ac0": {
          "model_module": "@jupyter-widgets/base",
          "model_name": "LayoutModel",
          "model_module_version": "1.2.0",
          "state": {
            "_model_module": "@jupyter-widgets/base",
            "_model_module_version": "1.2.0",
            "_model_name": "LayoutModel",
            "_view_count": null,
            "_view_module": "@jupyter-widgets/base",
            "_view_module_version": "1.2.0",
            "_view_name": "LayoutView",
            "align_content": null,
            "align_items": null,
            "align_self": null,
            "border": null,
            "bottom": null,
            "display": null,
            "flex": null,
            "flex_flow": null,
            "grid_area": null,
            "grid_auto_columns": null,
            "grid_auto_flow": null,
            "grid_auto_rows": null,
            "grid_column": null,
            "grid_gap": null,
            "grid_row": null,
            "grid_template_areas": null,
            "grid_template_columns": null,
            "grid_template_rows": null,
            "height": null,
            "justify_content": null,
            "justify_items": null,
            "left": null,
            "margin": null,
            "max_height": null,
            "max_width": null,
            "min_height": null,
            "min_width": null,
            "object_fit": null,
            "object_position": null,
            "order": null,
            "overflow": null,
            "overflow_x": null,
            "overflow_y": null,
            "padding": null,
            "right": null,
            "top": null,
            "visibility": null,
            "width": null
          }
        },
        "41115ac491284656a404c44422917976": {
          "model_module": "@jupyter-widgets/controls",
          "model_name": "ProgressStyleModel",
          "model_module_version": "1.5.0",
          "state": {
            "_model_module": "@jupyter-widgets/controls",
            "_model_module_version": "1.5.0",
            "_model_name": "ProgressStyleModel",
            "_view_count": null,
            "_view_module": "@jupyter-widgets/base",
            "_view_module_version": "1.2.0",
            "_view_name": "StyleView",
            "bar_color": null,
            "description_width": ""
          }
        },
        "a397a2577d394819a441017ac0e7773a": {
          "model_module": "@jupyter-widgets/base",
          "model_name": "LayoutModel",
          "model_module_version": "1.2.0",
          "state": {
            "_model_module": "@jupyter-widgets/base",
            "_model_module_version": "1.2.0",
            "_model_name": "LayoutModel",
            "_view_count": null,
            "_view_module": "@jupyter-widgets/base",
            "_view_module_version": "1.2.0",
            "_view_name": "LayoutView",
            "align_content": null,
            "align_items": null,
            "align_self": null,
            "border": null,
            "bottom": null,
            "display": null,
            "flex": null,
            "flex_flow": null,
            "grid_area": null,
            "grid_auto_columns": null,
            "grid_auto_flow": null,
            "grid_auto_rows": null,
            "grid_column": null,
            "grid_gap": null,
            "grid_row": null,
            "grid_template_areas": null,
            "grid_template_columns": null,
            "grid_template_rows": null,
            "height": null,
            "justify_content": null,
            "justify_items": null,
            "left": null,
            "margin": null,
            "max_height": null,
            "max_width": null,
            "min_height": null,
            "min_width": null,
            "object_fit": null,
            "object_position": null,
            "order": null,
            "overflow": null,
            "overflow_x": null,
            "overflow_y": null,
            "padding": null,
            "right": null,
            "top": null,
            "visibility": null,
            "width": null
          }
        },
        "9b8598c3da584b68ba5bbbe1ad446fa1": {
          "model_module": "@jupyter-widgets/controls",
          "model_name": "DescriptionStyleModel",
          "model_module_version": "1.5.0",
          "state": {
            "_model_module": "@jupyter-widgets/controls",
            "_model_module_version": "1.5.0",
            "_model_name": "DescriptionStyleModel",
            "_view_count": null,
            "_view_module": "@jupyter-widgets/base",
            "_view_module_version": "1.2.0",
            "_view_name": "StyleView",
            "description_width": ""
          }
        },
        "4bb7926233b1417a88dade325e2dffbf": {
          "model_module": "@jupyter-widgets/controls",
          "model_name": "HBoxModel",
          "model_module_version": "1.5.0",
          "state": {
            "_dom_classes": [],
            "_model_module": "@jupyter-widgets/controls",
            "_model_module_version": "1.5.0",
            "_model_name": "HBoxModel",
            "_view_count": null,
            "_view_module": "@jupyter-widgets/controls",
            "_view_module_version": "1.5.0",
            "_view_name": "HBoxView",
            "box_style": "",
            "children": [
              "IPY_MODEL_90c047e28b114f29a083b1c0d595ca80",
              "IPY_MODEL_cddb6c2ebdf84634ae8eb11c38858ad2",
              "IPY_MODEL_cd5b0bacb4894970b9475fa00bcbcafb"
            ],
            "layout": "IPY_MODEL_2170bbea1f824955847da644daf104d9"
          }
        },
        "90c047e28b114f29a083b1c0d595ca80": {
          "model_module": "@jupyter-widgets/controls",
          "model_name": "HTMLModel",
          "model_module_version": "1.5.0",
          "state": {
            "_dom_classes": [],
            "_model_module": "@jupyter-widgets/controls",
            "_model_module_version": "1.5.0",
            "_model_name": "HTMLModel",
            "_view_count": null,
            "_view_module": "@jupyter-widgets/controls",
            "_view_module_version": "1.5.0",
            "_view_name": "HTMLView",
            "description": "",
            "description_tooltip": null,
            "layout": "IPY_MODEL_0020834aa6254574b3e2b2d73c7e2309",
            "placeholder": "​",
            "style": "IPY_MODEL_d41beacb33f742de8a137a57feebb351",
            "value": "100%"
          }
        },
        "cddb6c2ebdf84634ae8eb11c38858ad2": {
          "model_module": "@jupyter-widgets/controls",
          "model_name": "FloatProgressModel",
          "model_module_version": "1.5.0",
          "state": {
            "_dom_classes": [],
            "_model_module": "@jupyter-widgets/controls",
            "_model_module_version": "1.5.0",
            "_model_name": "FloatProgressModel",
            "_view_count": null,
            "_view_module": "@jupyter-widgets/controls",
            "_view_module_version": "1.5.0",
            "_view_name": "ProgressView",
            "bar_style": "success",
            "description": "",
            "description_tooltip": null,
            "layout": "IPY_MODEL_d064246abccb40ea9d016ea1177b8a30",
            "max": 100,
            "min": 0,
            "orientation": "horizontal",
            "style": "IPY_MODEL_2dba63eb85994665b65d2d81a88e3444",
            "value": 100
          }
        },
        "cd5b0bacb4894970b9475fa00bcbcafb": {
          "model_module": "@jupyter-widgets/controls",
          "model_name": "HTMLModel",
          "model_module_version": "1.5.0",
          "state": {
            "_dom_classes": [],
            "_model_module": "@jupyter-widgets/controls",
            "_model_module_version": "1.5.0",
            "_model_name": "HTMLModel",
            "_view_count": null,
            "_view_module": "@jupyter-widgets/controls",
            "_view_module_version": "1.5.0",
            "_view_name": "HTMLView",
            "description": "",
            "description_tooltip": null,
            "layout": "IPY_MODEL_4524af20dd31466f8842eba32db66092",
            "placeholder": "​",
            "style": "IPY_MODEL_15c5acf6604149beacb7e63070c06ea5",
            "value": " 100/100 [00:04&lt;00:00, 22.49it/s]"
          }
        },
        "2170bbea1f824955847da644daf104d9": {
          "model_module": "@jupyter-widgets/base",
          "model_name": "LayoutModel",
          "model_module_version": "1.2.0",
          "state": {
            "_model_module": "@jupyter-widgets/base",
            "_model_module_version": "1.2.0",
            "_model_name": "LayoutModel",
            "_view_count": null,
            "_view_module": "@jupyter-widgets/base",
            "_view_module_version": "1.2.0",
            "_view_name": "LayoutView",
            "align_content": null,
            "align_items": null,
            "align_self": null,
            "border": null,
            "bottom": null,
            "display": null,
            "flex": null,
            "flex_flow": null,
            "grid_area": null,
            "grid_auto_columns": null,
            "grid_auto_flow": null,
            "grid_auto_rows": null,
            "grid_column": null,
            "grid_gap": null,
            "grid_row": null,
            "grid_template_areas": null,
            "grid_template_columns": null,
            "grid_template_rows": null,
            "height": null,
            "justify_content": null,
            "justify_items": null,
            "left": null,
            "margin": null,
            "max_height": null,
            "max_width": null,
            "min_height": null,
            "min_width": null,
            "object_fit": null,
            "object_position": null,
            "order": null,
            "overflow": null,
            "overflow_x": null,
            "overflow_y": null,
            "padding": null,
            "right": null,
            "top": null,
            "visibility": null,
            "width": null
          }
        },
        "0020834aa6254574b3e2b2d73c7e2309": {
          "model_module": "@jupyter-widgets/base",
          "model_name": "LayoutModel",
          "model_module_version": "1.2.0",
          "state": {
            "_model_module": "@jupyter-widgets/base",
            "_model_module_version": "1.2.0",
            "_model_name": "LayoutModel",
            "_view_count": null,
            "_view_module": "@jupyter-widgets/base",
            "_view_module_version": "1.2.0",
            "_view_name": "LayoutView",
            "align_content": null,
            "align_items": null,
            "align_self": null,
            "border": null,
            "bottom": null,
            "display": null,
            "flex": null,
            "flex_flow": null,
            "grid_area": null,
            "grid_auto_columns": null,
            "grid_auto_flow": null,
            "grid_auto_rows": null,
            "grid_column": null,
            "grid_gap": null,
            "grid_row": null,
            "grid_template_areas": null,
            "grid_template_columns": null,
            "grid_template_rows": null,
            "height": null,
            "justify_content": null,
            "justify_items": null,
            "left": null,
            "margin": null,
            "max_height": null,
            "max_width": null,
            "min_height": null,
            "min_width": null,
            "object_fit": null,
            "object_position": null,
            "order": null,
            "overflow": null,
            "overflow_x": null,
            "overflow_y": null,
            "padding": null,
            "right": null,
            "top": null,
            "visibility": null,
            "width": null
          }
        },
        "d41beacb33f742de8a137a57feebb351": {
          "model_module": "@jupyter-widgets/controls",
          "model_name": "DescriptionStyleModel",
          "model_module_version": "1.5.0",
          "state": {
            "_model_module": "@jupyter-widgets/controls",
            "_model_module_version": "1.5.0",
            "_model_name": "DescriptionStyleModel",
            "_view_count": null,
            "_view_module": "@jupyter-widgets/base",
            "_view_module_version": "1.2.0",
            "_view_name": "StyleView",
            "description_width": ""
          }
        },
        "d064246abccb40ea9d016ea1177b8a30": {
          "model_module": "@jupyter-widgets/base",
          "model_name": "LayoutModel",
          "model_module_version": "1.2.0",
          "state": {
            "_model_module": "@jupyter-widgets/base",
            "_model_module_version": "1.2.0",
            "_model_name": "LayoutModel",
            "_view_count": null,
            "_view_module": "@jupyter-widgets/base",
            "_view_module_version": "1.2.0",
            "_view_name": "LayoutView",
            "align_content": null,
            "align_items": null,
            "align_self": null,
            "border": null,
            "bottom": null,
            "display": null,
            "flex": null,
            "flex_flow": null,
            "grid_area": null,
            "grid_auto_columns": null,
            "grid_auto_flow": null,
            "grid_auto_rows": null,
            "grid_column": null,
            "grid_gap": null,
            "grid_row": null,
            "grid_template_areas": null,
            "grid_template_columns": null,
            "grid_template_rows": null,
            "height": null,
            "justify_content": null,
            "justify_items": null,
            "left": null,
            "margin": null,
            "max_height": null,
            "max_width": null,
            "min_height": null,
            "min_width": null,
            "object_fit": null,
            "object_position": null,
            "order": null,
            "overflow": null,
            "overflow_x": null,
            "overflow_y": null,
            "padding": null,
            "right": null,
            "top": null,
            "visibility": null,
            "width": null
          }
        },
        "2dba63eb85994665b65d2d81a88e3444": {
          "model_module": "@jupyter-widgets/controls",
          "model_name": "ProgressStyleModel",
          "model_module_version": "1.5.0",
          "state": {
            "_model_module": "@jupyter-widgets/controls",
            "_model_module_version": "1.5.0",
            "_model_name": "ProgressStyleModel",
            "_view_count": null,
            "_view_module": "@jupyter-widgets/base",
            "_view_module_version": "1.2.0",
            "_view_name": "StyleView",
            "bar_color": null,
            "description_width": ""
          }
        },
        "4524af20dd31466f8842eba32db66092": {
          "model_module": "@jupyter-widgets/base",
          "model_name": "LayoutModel",
          "model_module_version": "1.2.0",
          "state": {
            "_model_module": "@jupyter-widgets/base",
            "_model_module_version": "1.2.0",
            "_model_name": "LayoutModel",
            "_view_count": null,
            "_view_module": "@jupyter-widgets/base",
            "_view_module_version": "1.2.0",
            "_view_name": "LayoutView",
            "align_content": null,
            "align_items": null,
            "align_self": null,
            "border": null,
            "bottom": null,
            "display": null,
            "flex": null,
            "flex_flow": null,
            "grid_area": null,
            "grid_auto_columns": null,
            "grid_auto_flow": null,
            "grid_auto_rows": null,
            "grid_column": null,
            "grid_gap": null,
            "grid_row": null,
            "grid_template_areas": null,
            "grid_template_columns": null,
            "grid_template_rows": null,
            "height": null,
            "justify_content": null,
            "justify_items": null,
            "left": null,
            "margin": null,
            "max_height": null,
            "max_width": null,
            "min_height": null,
            "min_width": null,
            "object_fit": null,
            "object_position": null,
            "order": null,
            "overflow": null,
            "overflow_x": null,
            "overflow_y": null,
            "padding": null,
            "right": null,
            "top": null,
            "visibility": null,
            "width": null
          }
        },
        "15c5acf6604149beacb7e63070c06ea5": {
          "model_module": "@jupyter-widgets/controls",
          "model_name": "DescriptionStyleModel",
          "model_module_version": "1.5.0",
          "state": {
            "_model_module": "@jupyter-widgets/controls",
            "_model_module_version": "1.5.0",
            "_model_name": "DescriptionStyleModel",
            "_view_count": null,
            "_view_module": "@jupyter-widgets/base",
            "_view_module_version": "1.2.0",
            "_view_name": "StyleView",
            "description_width": ""
          }
        },
        "03005c7066f54bb5910cc03657d68f1e": {
          "model_module": "@jupyter-widgets/controls",
          "model_name": "HBoxModel",
          "model_module_version": "1.5.0",
          "state": {
            "_dom_classes": [],
            "_model_module": "@jupyter-widgets/controls",
            "_model_module_version": "1.5.0",
            "_model_name": "HBoxModel",
            "_view_count": null,
            "_view_module": "@jupyter-widgets/controls",
            "_view_module_version": "1.5.0",
            "_view_name": "HBoxView",
            "box_style": "",
            "children": [
              "IPY_MODEL_0b4c1c52ee4f4b13953a1433d03e2dd8",
              "IPY_MODEL_59eb669efbce45feb09c30a57ac65373",
              "IPY_MODEL_5d0c2e7484c2450aa0d10d67c689356b"
            ],
            "layout": "IPY_MODEL_f175f877db9e40b99e8ae1a57f041030"
          }
        },
        "0b4c1c52ee4f4b13953a1433d03e2dd8": {
          "model_module": "@jupyter-widgets/controls",
          "model_name": "HTMLModel",
          "model_module_version": "1.5.0",
          "state": {
            "_dom_classes": [],
            "_model_module": "@jupyter-widgets/controls",
            "_model_module_version": "1.5.0",
            "_model_name": "HTMLModel",
            "_view_count": null,
            "_view_module": "@jupyter-widgets/controls",
            "_view_module_version": "1.5.0",
            "_view_name": "HTMLView",
            "description": "",
            "description_tooltip": null,
            "layout": "IPY_MODEL_728f3195788a403a898da256d6fea68d",
            "placeholder": "​",
            "style": "IPY_MODEL_81a9b841f99d4937bbd4d1ab30a12a5f",
            "value": "100%"
          }
        },
        "59eb669efbce45feb09c30a57ac65373": {
          "model_module": "@jupyter-widgets/controls",
          "model_name": "FloatProgressModel",
          "model_module_version": "1.5.0",
          "state": {
            "_dom_classes": [],
            "_model_module": "@jupyter-widgets/controls",
            "_model_module_version": "1.5.0",
            "_model_name": "FloatProgressModel",
            "_view_count": null,
            "_view_module": "@jupyter-widgets/controls",
            "_view_module_version": "1.5.0",
            "_view_name": "ProgressView",
            "bar_style": "success",
            "description": "",
            "description_tooltip": null,
            "layout": "IPY_MODEL_6fe6cc32a1ab476186a37334458312e3",
            "max": 100,
            "min": 0,
            "orientation": "horizontal",
            "style": "IPY_MODEL_df542a422f00470fb19f5c1c33aa620b",
            "value": 100
          }
        },
        "5d0c2e7484c2450aa0d10d67c689356b": {
          "model_module": "@jupyter-widgets/controls",
          "model_name": "HTMLModel",
          "model_module_version": "1.5.0",
          "state": {
            "_dom_classes": [],
            "_model_module": "@jupyter-widgets/controls",
            "_model_module_version": "1.5.0",
            "_model_name": "HTMLModel",
            "_view_count": null,
            "_view_module": "@jupyter-widgets/controls",
            "_view_module_version": "1.5.0",
            "_view_name": "HTMLView",
            "description": "",
            "description_tooltip": null,
            "layout": "IPY_MODEL_91e0c55790c9436f92549c195a91be7f",
            "placeholder": "​",
            "style": "IPY_MODEL_f8ad681ee16349129312d87e8c61fcff",
            "value": " 100/100 [00:29&lt;00:00,  3.39it/s]"
          }
        },
        "f175f877db9e40b99e8ae1a57f041030": {
          "model_module": "@jupyter-widgets/base",
          "model_name": "LayoutModel",
          "model_module_version": "1.2.0",
          "state": {
            "_model_module": "@jupyter-widgets/base",
            "_model_module_version": "1.2.0",
            "_model_name": "LayoutModel",
            "_view_count": null,
            "_view_module": "@jupyter-widgets/base",
            "_view_module_version": "1.2.0",
            "_view_name": "LayoutView",
            "align_content": null,
            "align_items": null,
            "align_self": null,
            "border": null,
            "bottom": null,
            "display": null,
            "flex": null,
            "flex_flow": null,
            "grid_area": null,
            "grid_auto_columns": null,
            "grid_auto_flow": null,
            "grid_auto_rows": null,
            "grid_column": null,
            "grid_gap": null,
            "grid_row": null,
            "grid_template_areas": null,
            "grid_template_columns": null,
            "grid_template_rows": null,
            "height": null,
            "justify_content": null,
            "justify_items": null,
            "left": null,
            "margin": null,
            "max_height": null,
            "max_width": null,
            "min_height": null,
            "min_width": null,
            "object_fit": null,
            "object_position": null,
            "order": null,
            "overflow": null,
            "overflow_x": null,
            "overflow_y": null,
            "padding": null,
            "right": null,
            "top": null,
            "visibility": null,
            "width": null
          }
        },
        "728f3195788a403a898da256d6fea68d": {
          "model_module": "@jupyter-widgets/base",
          "model_name": "LayoutModel",
          "model_module_version": "1.2.0",
          "state": {
            "_model_module": "@jupyter-widgets/base",
            "_model_module_version": "1.2.0",
            "_model_name": "LayoutModel",
            "_view_count": null,
            "_view_module": "@jupyter-widgets/base",
            "_view_module_version": "1.2.0",
            "_view_name": "LayoutView",
            "align_content": null,
            "align_items": null,
            "align_self": null,
            "border": null,
            "bottom": null,
            "display": null,
            "flex": null,
            "flex_flow": null,
            "grid_area": null,
            "grid_auto_columns": null,
            "grid_auto_flow": null,
            "grid_auto_rows": null,
            "grid_column": null,
            "grid_gap": null,
            "grid_row": null,
            "grid_template_areas": null,
            "grid_template_columns": null,
            "grid_template_rows": null,
            "height": null,
            "justify_content": null,
            "justify_items": null,
            "left": null,
            "margin": null,
            "max_height": null,
            "max_width": null,
            "min_height": null,
            "min_width": null,
            "object_fit": null,
            "object_position": null,
            "order": null,
            "overflow": null,
            "overflow_x": null,
            "overflow_y": null,
            "padding": null,
            "right": null,
            "top": null,
            "visibility": null,
            "width": null
          }
        },
        "81a9b841f99d4937bbd4d1ab30a12a5f": {
          "model_module": "@jupyter-widgets/controls",
          "model_name": "DescriptionStyleModel",
          "model_module_version": "1.5.0",
          "state": {
            "_model_module": "@jupyter-widgets/controls",
            "_model_module_version": "1.5.0",
            "_model_name": "DescriptionStyleModel",
            "_view_count": null,
            "_view_module": "@jupyter-widgets/base",
            "_view_module_version": "1.2.0",
            "_view_name": "StyleView",
            "description_width": ""
          }
        },
        "6fe6cc32a1ab476186a37334458312e3": {
          "model_module": "@jupyter-widgets/base",
          "model_name": "LayoutModel",
          "model_module_version": "1.2.0",
          "state": {
            "_model_module": "@jupyter-widgets/base",
            "_model_module_version": "1.2.0",
            "_model_name": "LayoutModel",
            "_view_count": null,
            "_view_module": "@jupyter-widgets/base",
            "_view_module_version": "1.2.0",
            "_view_name": "LayoutView",
            "align_content": null,
            "align_items": null,
            "align_self": null,
            "border": null,
            "bottom": null,
            "display": null,
            "flex": null,
            "flex_flow": null,
            "grid_area": null,
            "grid_auto_columns": null,
            "grid_auto_flow": null,
            "grid_auto_rows": null,
            "grid_column": null,
            "grid_gap": null,
            "grid_row": null,
            "grid_template_areas": null,
            "grid_template_columns": null,
            "grid_template_rows": null,
            "height": null,
            "justify_content": null,
            "justify_items": null,
            "left": null,
            "margin": null,
            "max_height": null,
            "max_width": null,
            "min_height": null,
            "min_width": null,
            "object_fit": null,
            "object_position": null,
            "order": null,
            "overflow": null,
            "overflow_x": null,
            "overflow_y": null,
            "padding": null,
            "right": null,
            "top": null,
            "visibility": null,
            "width": null
          }
        },
        "df542a422f00470fb19f5c1c33aa620b": {
          "model_module": "@jupyter-widgets/controls",
          "model_name": "ProgressStyleModel",
          "model_module_version": "1.5.0",
          "state": {
            "_model_module": "@jupyter-widgets/controls",
            "_model_module_version": "1.5.0",
            "_model_name": "ProgressStyleModel",
            "_view_count": null,
            "_view_module": "@jupyter-widgets/base",
            "_view_module_version": "1.2.0",
            "_view_name": "StyleView",
            "bar_color": null,
            "description_width": ""
          }
        },
        "91e0c55790c9436f92549c195a91be7f": {
          "model_module": "@jupyter-widgets/base",
          "model_name": "LayoutModel",
          "model_module_version": "1.2.0",
          "state": {
            "_model_module": "@jupyter-widgets/base",
            "_model_module_version": "1.2.0",
            "_model_name": "LayoutModel",
            "_view_count": null,
            "_view_module": "@jupyter-widgets/base",
            "_view_module_version": "1.2.0",
            "_view_name": "LayoutView",
            "align_content": null,
            "align_items": null,
            "align_self": null,
            "border": null,
            "bottom": null,
            "display": null,
            "flex": null,
            "flex_flow": null,
            "grid_area": null,
            "grid_auto_columns": null,
            "grid_auto_flow": null,
            "grid_auto_rows": null,
            "grid_column": null,
            "grid_gap": null,
            "grid_row": null,
            "grid_template_areas": null,
            "grid_template_columns": null,
            "grid_template_rows": null,
            "height": null,
            "justify_content": null,
            "justify_items": null,
            "left": null,
            "margin": null,
            "max_height": null,
            "max_width": null,
            "min_height": null,
            "min_width": null,
            "object_fit": null,
            "object_position": null,
            "order": null,
            "overflow": null,
            "overflow_x": null,
            "overflow_y": null,
            "padding": null,
            "right": null,
            "top": null,
            "visibility": null,
            "width": null
          }
        },
        "f8ad681ee16349129312d87e8c61fcff": {
          "model_module": "@jupyter-widgets/controls",
          "model_name": "DescriptionStyleModel",
          "model_module_version": "1.5.0",
          "state": {
            "_model_module": "@jupyter-widgets/controls",
            "_model_module_version": "1.5.0",
            "_model_name": "DescriptionStyleModel",
            "_view_count": null,
            "_view_module": "@jupyter-widgets/base",
            "_view_module_version": "1.2.0",
            "_view_name": "StyleView",
            "description_width": ""
          }
        }
      }
    }
  },
  "nbformat": 4,
  "nbformat_minor": 0
}