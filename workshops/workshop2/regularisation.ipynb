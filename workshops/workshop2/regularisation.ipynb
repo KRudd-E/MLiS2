{
  "cells": [
    {
      "cell_type": "markdown",
      "metadata": {
        "colab_type": "text",
        "id": "view-in-github"
      },
      "source": [
        "<a href=\"https://colab.research.google.com/github/adammoss/MLiS2/blob/master/workshops/workshop2/regularisation.ipynb\" target=\"_parent\"><img src=\"https://colab.research.google.com/assets/colab-badge.svg\" alt=\"Open In Colab\"/></a>"
      ]
    },
    {
      "cell_type": "markdown",
      "metadata": {
        "id": "f9lgu7n44eFs"
      },
      "source": [
        "**Regularisation**\n",
        "\n",
        "In this example you are given a dataset (MNIST) with a limited number of training examples (only 1000 compared to the usual 60,000). \n",
        "\n",
        "Your goal is to implement regularisation methods to achive the **lowest possible test loss using this dataset**. \n",
        "\n",
        "You should consider methods given in the lectures including:\n",
        "\n",
        "*   Data augmentation\n",
        "*   Early stopping\n",
        "*   L1/L2 penalty norms\n",
        "*   Dropout\n",
        "\n",
        "You are free to change the network architecture and model complexity, but the main purpose of the workshop is to investigate regularisation (next week you will look at CNN architectures in detail). \n",
        "\n",
        "You are also free to change the choice of optimiser, and other hyper-parameters such as the batch size.  \n"
      ]
    },
    {
      "cell_type": "code",
      "execution_count": 241,
      "metadata": {
        "id": "cNviuTwum6vs"
      },
      "outputs": [],
      "source": [
        "try:\n",
        "  # %tensorflow_version only exists in Colab.\n",
        "  %tensorflow_version 2.x\n",
        "except Exception:\n",
        "  pass"
      ]
    },
    {
      "cell_type": "code",
      "execution_count": 242,
      "metadata": {
        "id": "ARZRYjHQnE-0"
      },
      "outputs": [],
      "source": [
        "from __future__ import absolute_import, division, print_function, unicode_literals\n",
        "\n",
        "import tensorflow as tf\n",
        "\n",
        "from tensorflow.python.keras.layers import Dense, Flatten, Conv2D, Dropout\n",
        "from tensorflow import keras\n",
        "from tensorflow.python.keras import Model, regularizers\n",
        "from keras_preprocessing.image import ImageDataGenerator\n",
        "\n",
        "import matplotlib.pyplot as plt\n",
        "\n",
        "import numpy as np"
      ]
    },
    {
      "cell_type": "code",
      "execution_count": 243,
      "metadata": {
        "id": "7I-MxTxAnH2d"
      },
      "outputs": [],
      "source": [
        "tf.random.set_seed(1)"
      ]
    },
    {
      "cell_type": "code",
      "execution_count": 244,
      "metadata": {
        "colab": {
          "base_uri": "https://localhost:8080/"
        },
        "id": "cxO576eJnMXN",
        "outputId": "b8ef8e05-86a5-4681-fda5-7406c20ec7af"
      },
      "outputs": [
        {
          "name": "stdout",
          "output_type": "stream",
          "text": [
            "2.17.0\n"
          ]
        }
      ],
      "source": [
        "print(tf.__version__)"
      ]
    },
    {
      "cell_type": "markdown",
      "metadata": {
        "id": "q4F_HTQpnvSk"
      },
      "source": [
        "First load the MNIST dataset and add a channels dimension (channels last convention)"
      ]
    },
    {
      "cell_type": "code",
      "execution_count": 245,
      "metadata": {
        "id": "Twdc-t9FnN_9"
      },
      "outputs": [],
      "source": [
        "mnist = tf.keras.datasets.mnist\n",
        "(x_train, y_train), (x_test, y_test) = mnist.load_data()\n",
        "\n",
        "x_train = x_train[..., tf.newaxis].astype(np.float32)\n",
        "x_test = x_test[..., tf.newaxis].astype(np.float32)\n",
        "\n",
        "img_rows = x_train.shape[1]\n",
        "img_cols = x_train.shape[2]"
      ]
    },
    {
      "cell_type": "markdown",
      "metadata": {
        "id": "IEsWYkNz5Po7"
      },
      "source": [
        "Let's use a much smaller training dataset of 1000 examples so overfitting is more problematic"
      ]
    },
    {
      "cell_type": "code",
      "execution_count": 246,
      "metadata": {
        "colab": {
          "base_uri": "https://localhost:8080/"
        },
        "id": "Qzt-HoIo4yks",
        "outputId": "fa29683d-8787-4e57-bd38-1b5386df1467"
      },
      "outputs": [
        {
          "name": "stdout",
          "output_type": "stream",
          "text": [
            "(1000, 28, 28, 1)\n",
            "(10000, 28, 28, 1)\n"
          ]
        }
      ],
      "source": [
        "n_train = 1000\n",
        "x_train = x_train[0:n_train, :]\n",
        "y_train = y_train[0:n_train]\n",
        "\n",
        "print(x_train.shape)\n",
        "print(x_test.shape)"
      ]
    },
    {
      "cell_type": "code",
      "execution_count": 247,
      "metadata": {
        "id": "x2JSWYGKjsPh"
      },
      "outputs": [],
      "source": [
        "def plotImages(images_arr):\n",
        "    fig, axes = plt.subplots(1, 5, figsize=(15, 15))\n",
        "    axes = axes.flatten()\n",
        "    for img, ax in zip( images_arr, axes):\n",
        "        ax.imshow(np.squeeze(img))\n",
        "        ax.axis('off')\n",
        "    plt.tight_layout()\n",
        "    plt.show()"
      ]
    },
    {
      "cell_type": "markdown",
      "metadata": {
        "id": "oDfQh4AfoBAH"
      },
      "source": [
        "Let's visualise several training examples - to do this we use the keras ImageDataGenerator. We rescale images by 1/255 to normalise them in the range (0, 1)"
      ]
    },
    {
      "cell_type": "code",
      "execution_count": 248,
      "metadata": {
        "colab": {
          "base_uri": "https://localhost:8080/",
          "height": 234
        },
        "id": "fuOz9BopjZPq",
        "outputId": "45df3d4a-e467-44ee-ee38-62ea5fdf4bb3"
      },
      "outputs": [
        {
          "data": {
            "image/png": "[encoded data removed]",
            "text/plain": [
              "<Figure size 1500x1500 with 5 Axes>"
            ]
          },
          "metadata": {},
          "output_type": "display_data"
        }
      ],
      "source": [
        "image_generator = ImageDataGenerator(rescale=1./255) \n",
        "data_gen = image_generator.flow(x_train, y_train, batch_size=32) \n",
        "sample_images, sample_labels = next(data_gen)\n",
        "plotImages(sample_images[:5])"
      ]
    },
    {
      "cell_type": "markdown",
      "metadata": {
        "id": "H8bStvJVoVlj"
      },
      "source": [
        "One regularisation method to deal with over-fitting is data augmentation. The image generator can apply various transformations to data - here we apply a random rotation of upto 20 degrees and visualise the same training example with different augmentations"
      ]
    },
    {
      "cell_type": "code",
      "execution_count": 249,
      "metadata": {
        "colab": {
          "base_uri": "https://localhost:8080/",
          "height": 234
        },
        "id": "iz28zlncmIiP",
        "outputId": "079fa9d6-0ba7-45a8-d9eb-4ec24a66d089"
      },
      "outputs": [
        {
          "data": {
            "image/png": "[encoded data removed]",
            "text/plain": [
              "<Figure size 1500x1500 with 5 Axes>"
            ]
          },
          "metadata": {},
          "output_type": "display_data"
        }
      ],
      "source": [
        "image_generator = ImageDataGenerator(rescale=1/255, \n",
        "                                     rotation_range=20) \n",
        "data_gen = image_generator.flow(x_train, y_train, batch_size=32) \n",
        "augmented_images = [data_gen[0][0][0] for i in range(5)]\n",
        "plotImages(augmented_images)"
      ]
    },
    {
      "cell_type": "markdown",
      "metadata": {
        "id": "mIE6-wlA3J4h"
      },
      "source": [
        "Define a basic CNN with 32 convolutional filters using a 3x3 kernel, followed by a dense fully connected layer of 128 units and an output layer of 10 units with softmax activation "
      ]
    },
    {
      "cell_type": "code",
      "execution_count": null,
      "metadata": {
        "id": "ZKolHZQUL8-4"
      },
      "outputs": [],
      "source": [
        "'''''\n",
        "class BasicCNN(Model):\n",
        "  def __init__(self):\n",
        "    super(BasicCNN, self).__init__()\n",
        "    self.conv1 = Conv2D(32, 3, activation='relu',  kernel_regularizer=regularizers.L1(0.01))\n",
        "    self.flatten = Flatten()\n",
        "    self.drop1 = Dropout(rate=0.2)\n",
        "    self.dense1 = Dense(128, activation='relu', kernel_regularizer=regularizers.L2(0.01))\n",
        "    self.drop2 = Dropout(rate=0.2)\n",
        "    self.dense2 = Dense(10, activation='softmax',  kernel_regularizer=regularizers.L2(0.01))\n",
        "\n",
        "  def call(self, x):\n",
        "    x = self.conv1(x)\n",
        "    x = self.flatten(x)\n",
        "    x = self.drop1(x)\n",
        "    x = self.dense1(x)\n",
        "    x = self.drop2(x)\n",
        "    x = self.dense2(x)\n",
        "    return x\n",
        "'''''\n",
        "\n",
        "class BasicCNN(Model):\n",
        "  def __init__(self):\n",
        "    super(BasicCNN, self).__init__()\n",
        "    self.conv1 = Conv2D(32, 3, activation='relu', kernel_regularizer=regularizers.l2(0.01))\n",
        "    self.conv2 = Conv2D(64, (3, 3), activation='relu', kernel_regularizer=regularizers.l2(0.01))\n",
        "    self.drop1 = Dropout(0.25)\n",
        "    self.flatten = Flatten()\n",
        "    self.batch1 = keras.layers.BatchNormalization()\n",
        "    self.d1 = Dense(128, activation='relu', kernel_regularizer=regularizers.l2(0.01))\n",
        "    self.drop2 = Dropout(0.25)\n",
        "    self.batch2 = keras.layers.BatchNormalization()\n",
        "    self.d2 = Dense(10, activation='softmax', kernel_regularizer=regularizers.l2(0.01))\n",
        "\n",
        "  def call(self, x):\n",
        "    x = self.conv1(x)\n",
        "    x = self.conv2(x)\n",
        "    x = self.drop1(x)\n",
        "    x = self.flatten(x)\n",
        "    x = self.batch1(x)\n",
        "    x = self.d1(x)\n",
        "    x = self.drop2(x)\n",
        "    x = self.batch2(x)\n",
        "    return self.d2(x)\n",
        "  "
      ]
    },
    {
      "cell_type": "markdown",
      "metadata": {
        "id": "BuhNDi134B2G"
      },
      "source": [
        "Main training routine - uses the more detailed Gradient Tape API to iterate over the dataset and update the weights"
      ]
    },
    {
      "cell_type": "code",
      "execution_count": 251,
      "metadata": {
        "id": "MZH8jdqKohiU"
      },
      "outputs": [],
      "source": [
        "def trainer(cls, train_image_generator, test_image_generator, \n",
        "            verbose=False, batch_size=32, max_epochs=5):\n",
        "  \n",
        "  model = cls()\n",
        "\n",
        "  train_data_gen = train_image_generator.flow(x_train, y_train, \n",
        "                                              batch_size=batch_size) \n",
        "\n",
        "  test_data_gen = test_image_generator.flow(x_test, y_test, \n",
        "                                              batch_size=batch_size) \n",
        "\n",
        "  loss_object = tf.keras.losses.SparseCategoricalCrossentropy()\n",
        "  optimizer = tf.keras.optimizers.Adam()\n",
        "\n",
        "  train_loss = tf.keras.metrics.Mean(name='train_loss')\n",
        "  train_accuracy = tf.keras.metrics.SparseCategoricalAccuracy(\n",
        "      name='train_accuracy')\n",
        "\n",
        "  test_loss = tf.keras.metrics.Mean(name='test_loss')\n",
        "  test_accuracy = tf.keras.metrics.SparseCategoricalAccuracy(\n",
        "      name='test_accuracy')\n",
        "\n",
        "  @tf.function\n",
        "  def train_step(images, labels):\n",
        "    with tf.GradientTape() as tape:\n",
        "      predictions = model(images, training=True)\n",
        "      loss = loss_object(labels, predictions) \n",
        "    gradients = tape.gradient(loss, model.trainable_variables)\n",
        "    optimizer.apply_gradients(zip(gradients, model.trainable_variables))\n",
        "    train_loss(loss)\n",
        "    train_accuracy(labels, predictions)\n",
        "\n",
        "  @tf.function\n",
        "  def test_step(images, labels):\n",
        "    predictions = model(images, training=False)\n",
        "    t_loss = loss_object(labels, predictions)\n",
        "    test_loss(t_loss)\n",
        "    test_accuracy(labels, predictions)\n",
        "\n",
        "  for epoch in range(max_epochs):\n",
        "    # Reset the metrics at the start of the next epoch\n",
        "    train_loss.reset_state()\n",
        "    train_accuracy.reset_state()\n",
        "    test_loss.reset_state()\n",
        "    test_accuracy.reset_state()\n",
        "\n",
        "    batches = 0\n",
        "    for images, labels in train_data_gen:\n",
        "      train_step(images, labels)\n",
        "      batches += 1\n",
        "      if batches >= len(x_train) / batch_size:\n",
        "        break\n",
        "\n",
        "    batches = 0\n",
        "    for images, labels in test_data_gen:\n",
        "      test_step(images, labels)\n",
        "      batches += 1\n",
        "      if batches >= len(x_test) / batch_size:\n",
        "        break\n",
        "\n",
        "    if verbose:\n",
        "      template = 'Epoch {}, Loss: {}, Accuracy: {}, Test Loss: {}, Test Accuracy: {}'\n",
        "      print(template.format(epoch+1,\n",
        "                            train_loss.result(),\n",
        "                            train_accuracy.result()*100,\n",
        "                            test_loss.result(),\n",
        "                            test_accuracy.result()*100))\n",
        "    \n",
        "  return test_loss.result().numpy()"
      ]
    },
    {
      "cell_type": "markdown",
      "metadata": {
        "id": "BBSBEZftgDsL"
      },
      "source": [
        "Baseline run with no regularisation"
      ]
    },
    {
      "cell_type": "code",
      "execution_count": 253,
      "metadata": {
        "colab": {
          "base_uri": "https://localhost:8080/"
        },
        "id": "LkemC6SvTLOH",
        "outputId": "6a9f1162-25a7-490a-c899-1e84b915da4c"
      },
      "outputs": [
        {
          "name": "stdout",
          "output_type": "stream",
          "text": [
            "Epoch 1, Loss: 1.2269399166107178, Accuracy: 59.39999771118164, Test Loss: 0.5008776187896729, Test Accuracy: 84.83000183105469\n",
            "Epoch 2, Loss: 0.4814055562019348, Accuracy: 86.5999984741211, Test Loss: 0.29622629284858704, Test Accuracy: 90.62000274658203\n",
            "Epoch 3, Loss: 0.3033866584300995, Accuracy: 91.0999984741211, Test Loss: 0.20794834196567535, Test Accuracy: 93.33000183105469\n",
            "Epoch 4, Loss: 0.19600313901901245, Accuracy: 93.9000015258789, Test Loss: 0.2275959998369217, Test Accuracy: 92.95999908447266\n",
            "Epoch 5, Loss: 0.14279109239578247, Accuracy: 95.5, Test Loss: 0.2346668243408203, Test Accuracy: 93.18000030517578\n",
            "Epoch 6, Loss: 0.11849255859851837, Accuracy: 96.10000610351562, Test Loss: 0.2274332493543625, Test Accuracy: 93.37999725341797\n",
            "Epoch 7, Loss: 0.11117909103631973, Accuracy: 96.5999984741211, Test Loss: 0.21406947076320648, Test Accuracy: 94.02999877929688\n",
            "Epoch 8, Loss: 0.10491674393415451, Accuracy: 96.80000305175781, Test Loss: 0.17860354483127594, Test Accuracy: 94.68000030517578\n",
            "Epoch 9, Loss: 0.06701156497001648, Accuracy: 97.79999542236328, Test Loss: 0.18285496532917023, Test Accuracy: 95.01000213623047\n",
            "Epoch 10, Loss: 0.07369856536388397, Accuracy: 98.0, Test Loss: 0.1973784863948822, Test Accuracy: 94.52999877929688\n",
            "Epoch 11, Loss: 0.06000588461756706, Accuracy: 98.69999694824219, Test Loss: 0.22870662808418274, Test Accuracy: 94.05999755859375\n",
            "Epoch 12, Loss: 0.04813005030155182, Accuracy: 98.5, Test Loss: 0.22830694913864136, Test Accuracy: 93.87999725341797\n",
            "Epoch 13, Loss: 0.04263238236308098, Accuracy: 98.4000015258789, Test Loss: 0.2514117360115051, Test Accuracy: 94.05000305175781\n",
            "Epoch 14, Loss: 0.043339990079402924, Accuracy: 98.29999542236328, Test Loss: 0.21142888069152832, Test Accuracy: 94.4800033569336\n",
            "Epoch 15, Loss: 0.026521701365709305, Accuracy: 99.0999984741211, Test Loss: 0.21716725826263428, Test Accuracy: 94.75\n",
            "Epoch 16, Loss: 0.04349696636199951, Accuracy: 98.79999542236328, Test Loss: 0.20664912462234497, Test Accuracy: 94.83000183105469\n",
            "Epoch 17, Loss: 0.0384620763361454, Accuracy: 98.19999694824219, Test Loss: 0.22272272408008575, Test Accuracy: 94.7300033569336\n",
            "Epoch 18, Loss: 0.04154462367296219, Accuracy: 98.5, Test Loss: 0.19787849485874176, Test Accuracy: 94.91999816894531\n",
            "Epoch 19, Loss: 0.024044964462518692, Accuracy: 99.5, Test Loss: 0.1959027200937271, Test Accuracy: 95.0999984741211\n",
            "Epoch 20, Loss: 0.02381547912955284, Accuracy: 99.19999694824219, Test Loss: 0.2214217483997345, Test Accuracy: 94.77000427246094\n",
            "Final test loss: 0.22142175\n"
          ]
        }
      ],
      "source": [
        "train_image_generator = ImageDataGenerator(rescale=1./255, rotation_range=20) \n",
        "test_image_generator = ImageDataGenerator(rescale=1./255) \n",
        "final_test_loss = trainer(BasicCNN, train_image_generator, test_image_generator, \n",
        "                          verbose=True, max_epochs=20)\n",
        "print('Final test loss:', final_test_loss)"
      ]
    },
    {
      "cell_type": "code",
      "execution_count": null,
      "metadata": {},
      "outputs": [
        {
          "name": "stdout",
          "output_type": "stream",
          "text": [
            "Epoch 1, Loss: 1.117375373840332, Accuracy: 64.20000457763672, Test Loss: 0.4880084991455078, Test Accuracy: 85.97000122070312\n",
            "Epoch 2, Loss: 0.4695412516593933, Accuracy: 84.79999542236328, Test Loss: 0.34091341495513916, Test Accuracy: 89.70000457763672\n",
            "Epoch 3, Loss: 0.32577481865882874, Accuracy: 90.5, Test Loss: 0.2669074237346649, Test Accuracy: 91.54000091552734\n",
            "Epoch 4, Loss: 0.24515850841999054, Accuracy: 92.5999984741211, Test Loss: 0.19035600125789642, Test Accuracy: 93.9000015258789\n",
            "Epoch 5, Loss: 0.165800541639328, Accuracy: 95.0, Test Loss: 0.18886815011501312, Test Accuracy: 94.25\n",
            "Epoch 6, Loss: 0.13095764815807343, Accuracy: 95.5, Test Loss: 0.20691563189029694, Test Accuracy: 93.81999969482422\n",
            "Epoch 7, Loss: 0.11218482255935669, Accuracy: 96.20000457763672, Test Loss: 0.1648080050945282, Test Accuracy: 95.12000274658203\n",
            "Epoch 8, Loss: 0.09514801949262619, Accuracy: 97.19999694824219, Test Loss: 0.18153291940689087, Test Accuracy: 94.81999969482422\n",
            "Epoch 9, Loss: 0.06560531258583069, Accuracy: 98.0, Test Loss: 0.2082696557044983, Test Accuracy: 94.19000244140625\n",
            "Epoch 10, Loss: 0.08582479506731033, Accuracy: 97.0999984741211, Test Loss: 0.18239432573318481, Test Accuracy: 94.81999969482422\n",
            "Epoch 11, Loss: 0.05798869580030441, Accuracy: 98.0999984741211, Test Loss: 0.21735523641109467, Test Accuracy: 94.5999984741211\n",
            "Epoch 12, Loss: 0.056028395891189575, Accuracy: 98.0, Test Loss: 0.16924692690372467, Test Accuracy: 95.29000091552734\n",
            "Epoch 13, Loss: 0.06917332112789154, Accuracy: 97.69999694824219, Test Loss: 0.20992788672447205, Test Accuracy: 94.77999877929688\n",
            "Epoch 14, Loss: 0.04226753115653992, Accuracy: 98.5, Test Loss: 0.1767004281282425, Test Accuracy: 95.1500015258789\n",
            "Epoch 15, Loss: 0.03454264625906944, Accuracy: 99.0999984741211, Test Loss: 0.20326665043830872, Test Accuracy: 95.04000091552734\n",
            "Epoch 16, Loss: 0.03769788518548012, Accuracy: 98.9000015258789, Test Loss: 0.18662983179092407, Test Accuracy: 95.45000457763672\n",
            "Epoch 17, Loss: 0.04240964353084564, Accuracy: 98.69999694824219, Test Loss: 0.19247926771640778, Test Accuracy: 95.16000366210938\n",
            "Epoch 18, Loss: 0.029321132227778435, Accuracy: 98.9000015258789, Test Loss: 0.22246494889259338, Test Accuracy: 94.54000091552734\n",
            "Epoch 19, Loss: 0.02905845455825329, Accuracy: 99.0, Test Loss: 0.24403852224349976, Test Accuracy: 94.84000396728516\n",
            "Epoch 20, Loss: 0.032676104456186295, Accuracy: 98.79999542236328, Test Loss: 0.20482759177684784, Test Accuracy: 95.12000274658203\n",
            "Final test loss: 0.20482759\n"
          ]
        }
      ],
      "source": [
        "#0.01 L2 regularization\n",
        "train_image_generator = ImageDataGenerator(rescale=1./255, rotation_range=20) \n",
        "test_image_generator = ImageDataGenerator(rescale=1./255) \n",
        "final_test_loss = trainer(BasicCNN, train_image_generator, test_image_generator, \n",
        "                          verbose=True, max_epochs=20)\n",
        "print('Final test loss:', final_test_loss)"
      ]
    }
  ],
  "metadata": {
    "colab": {
      "authorship_tag": "ABX9TyM22uAKlWUTfo8m5mjrvkMz",
      "include_colab_link": true,
      "name": "regularisation.ipynb",
      "provenance": []
    },
    "kernelspec": {
      "display_name": "MLE",
      "language": "python",
      "name": "python3"
    },
    "language_info": {
      "codemirror_mode": {
        "name": "ipython",
        "version": 3
      },
      "file_extension": ".py",
      "mimetype": "text/x-python",
      "name": "python",
      "nbconvert_exporter": "python",
      "pygments_lexer": "ipython3",
      "version": "3.10.13"
    }
  },
  "nbformat": 4,
  "nbformat_minor": 0
}
